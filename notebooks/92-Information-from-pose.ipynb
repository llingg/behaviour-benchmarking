{
 "cells": [
  {
   "cell_type": "code",
   "execution_count": 2,
   "metadata": {},
   "outputs": [
    {
     "name": "stderr",
     "output_type": "stream",
     "text": [
      "INFO:dt-world:duckietown-world 5.1.2\n",
      "INFO:zuper-typing:zuper-typing 5.3.0\n",
      "INFO:zuper-commons:zuper-commons 5.0.11\n"
     ]
    }
   ],
   "source": [
    "import contracts\n",
    "contracts.disable_all()\n",
    "import duckietown_world as dw\n",
    "from duckietown_world.svg_drawing.ipython_utils import ipython_draw_html\n",
    "dw.logger.setLevel(50)"
   ]
  },
  {
   "cell_type": "code",
   "execution_count": 3,
   "metadata": {},
   "outputs": [
    {
     "data": {
      "text/html": [
       "<style>\n",
       "pre {line-height: 90%}\n",
       "</style>\n"
      ],
      "text/plain": [
       "<IPython.core.display.HTML object>"
      ]
     },
     "metadata": {},
     "output_type": "display_data"
    }
   ],
   "source": [
    "%%html\n",
    "<style>\n",
    "pre {line-height: 90%}\n",
    "</style>"
   ]
  },
  {
   "cell_type": "markdown",
   "metadata": {},
   "source": [
    "## Inferring Data from map\n",
    "\n",
    "Let's load a map, and place a Duckiebot somewhere inside."
   ]
  },
  {
   "cell_type": "code",
   "execution_count": 6,
   "metadata": {},
   "outputs": [
    {
     "data": {
      "text/html": [
       "\n",
       "        <iframe\n",
       "            width=\"100%\"\n",
       "            height=\"600\"\n",
       "            src=\"out/ipython_draw_html/140036606431808/drawing.html\"\n",
       "            frameborder=\"0\"\n",
       "            allowfullscreen\n",
       "        ></iframe>\n",
       "        "
      ],
      "text/plain": [
       "<IPython.lib.display.IFrame at 0x7f5cd02f20f0>"
      ]
     },
     "metadata": {},
     "output_type": "display_data"
    }
   ],
   "source": [
    "m = dw.load_map('linus_loop')\n",
    "\n",
    "import geometry as geo\n",
    "import numpy as np\n",
    "\n",
    "q = geo.SE2_from_translation_angle([1.3, 0.8], np.deg2rad(-12))\n",
    "m.set_object('db18-4', dw.DB18(), ground_truth=dw.SE2Transform.from_SE2(q))\n",
    "\n",
    "ipython_draw_html(m);"
   ]
  },
  {
   "cell_type": "markdown",
   "metadata": {},
   "source": [
    "Now we want to retrieve informations about the Duckiebot state given its pose and the map definition."
   ]
  },
  {
   "cell_type": "code",
   "execution_count": 4,
   "metadata": {},
   "outputs": [
    {
     "data": {
      "text/plain": [
       "GetLanePoseResult(tile=Tile(children={'curve_left': PlacedObject(children={'curve': PlacedObject(children={'lane1': LaneSegment(children={}, spatial_relations={}), 'lane2': LaneSegment(children={}, spatial_relations={})}, spatial_relations={'lane1': GroundTruth(() -> ('lane1',)  SE2Transform([0.0, 0.0],0.0)), 'lane2': GroundTruth(() -> ('lane2',)  SE2Transform([0.0, 0.0],1.5707963267948966))})}, spatial_relations={'curve': GroundTruth(() -> ('curve',)  SE2Transform([0.0, 0.0],4.71238898038469))})}, spatial_relations={1: GroundTruth(() -> ('curve_left',)  SE2Transform([0.0, 0.0],0.0))}), tile_fqn=('tilemap', 'tile-2-1'), tile_transform=TransformSequence([Scale2D(scale=0.585), TileCoords(i=2,j=1,orientation=N)]), tile_relative_pose=Matrix2D(m=[[-0.35540462  1.6720471  -0.13247862]\n",
       " [-1.6720471  -0.35540462  0.27777776]\n",
       " [ 0.          0.          1.        ]]), lane_segment=LaneSegment(children={}, spatial_relations={}), lane_segment_fqn=('tilemap', 'tile-2-1', 'curve_left', 'curve', 'lane1'), lane_pose=LanePose(inside=True,lateral_inside=True,outside_left=False,outside_right=False,lateral=0.1475033307614042,lateral_left=0.188,lateral_right=-0.188,along_inside=True,along_before=False,along_after=False,along_lane=0.15289967255684203,relative_heading=0.3338323786013029,distance_from_left=0.040496669238595795,distance_from_right=0.3355033307614042,distance_from_center=0.1475033307614042,center_point=SE2Transform([-0.3540281232059017, -0.2587446630435116],-0.5432718888406222),correct_direction=True), lane_segment_relative_pose=Matrix2D(m=[[ 1.6720471   0.35540462 -0.27777776]\n",
       " [-0.35540462  1.6720471  -0.13247862]\n",
       " [ 0.          0.          1.        ]]), tile_coords=TileCoords(i=2,j=1,orientation=N), lane_segment_transform=TransformSequence([Scale2D(scale=0.585), TileCoords(i=2,j=1,orientation=N), SE2Transform([0.0, 0.0],0.0), SE2Transform([0.0, 0.0],4.71238898038469), SE2Transform([0.0, 0.0],0.0)]), center_point=Matrix2D(m=[[ 0.5007728   0.30240962  1.2553935 ]\n",
       " [-0.30240962  0.5007728   0.7261343 ]\n",
       " [ 0.          0.          1.        ]]))"
      ]
     },
     "execution_count": 4,
     "metadata": {},
     "output_type": "execute_result"
    }
   ],
   "source": [
    "from duckietown_world.world_duckietown.tile import get_lane_poses\n",
    "\n",
    "lane_pose = list(get_lane_poses(m, q))[0]\n",
    "lane_pose"
   ]
  },
  {
   "cell_type": "markdown",
   "metadata": {},
   "source": [
    "That is a lot of information! Let's split it a bit."
   ]
  },
  {
   "cell_type": "markdown",
   "metadata": {},
   "source": [
    "### Tile information"
   ]
  },
  {
   "cell_type": "code",
   "execution_count": 5,
   "metadata": {},
   "outputs": [
    {
     "data": {
      "text/plain": [
       "Tile(children={'curve_left': PlacedObject(children={'curve': PlacedObject(children={'lane1': LaneSegment(children={}, spatial_relations={}), 'lane2': LaneSegment(children={}, spatial_relations={})}, spatial_relations={'lane1': GroundTruth(() -> ('lane1',)  SE2Transform([0.0, 0.0],0.0)), 'lane2': GroundTruth(() -> ('lane2',)  SE2Transform([0.0, 0.0],1.5707963267948966))})}, spatial_relations={'curve': GroundTruth(() -> ('curve',)  SE2Transform([0.0, 0.0],4.71238898038469))})}, spatial_relations={1: GroundTruth(() -> ('curve_left',)  SE2Transform([0.0, 0.0],0.0))})"
      ]
     },
     "execution_count": 5,
     "metadata": {},
     "output_type": "execute_result"
    }
   ],
   "source": [
    "lane_pose.tile"
   ]
  },
  {
   "cell_type": "code",
   "execution_count": 6,
   "metadata": {},
   "outputs": [
    {
     "data": {
      "text/plain": [
       "TileCoords(i=2,j=1,orientation=N)"
      ]
     },
     "execution_count": 6,
     "metadata": {},
     "output_type": "execute_result"
    }
   ],
   "source": [
    "lane_pose.tile_coords"
   ]
  },
  {
   "cell_type": "code",
   "execution_count": 7,
   "metadata": {},
   "outputs": [
    {
     "data": {
      "text/plain": [
       "('tilemap', 'tile-2-1')"
      ]
     },
     "execution_count": 7,
     "metadata": {},
     "output_type": "execute_result"
    }
   ],
   "source": [
    "lane_pose.tile_fqn"
   ]
  },
  {
   "cell_type": "code",
   "execution_count": 8,
   "metadata": {},
   "outputs": [
    {
     "data": {
      "text/plain": [
       "TransformSequence([Scale2D(scale=0.585), TileCoords(i=2,j=1,orientation=N)])"
      ]
     },
     "execution_count": 8,
     "metadata": {},
     "output_type": "execute_result"
    }
   ],
   "source": [
    "lane_pose.tile_transform"
   ]
  },
  {
   "cell_type": "code",
   "execution_count": 9,
   "metadata": {},
   "outputs": [
    {
     "data": {
      "text/plain": [
       "Matrix2D(m=[[-0.35540462  1.6720471  -0.13247862]\n",
       " [-1.6720471  -0.35540462  0.27777776]\n",
       " [ 0.          0.          1.        ]])"
      ]
     },
     "execution_count": 9,
     "metadata": {},
     "output_type": "execute_result"
    }
   ],
   "source": [
    "lane_pose.tile_relative_pose"
   ]
  },
  {
   "cell_type": "markdown",
   "metadata": {},
   "source": [
    "### Lane information"
   ]
  },
  {
   "cell_type": "code",
   "execution_count": 10,
   "metadata": {},
   "outputs": [
    {
     "data": {
      "text/plain": [
       "LaneSegment(children={}, spatial_relations={})"
      ]
     },
     "execution_count": 10,
     "metadata": {},
     "output_type": "execute_result"
    }
   ],
   "source": [
    "lane_pose.lane_segment"
   ]
  },
  {
   "cell_type": "code",
   "execution_count": 11,
   "metadata": {},
   "outputs": [
    {
     "data": {
      "text/plain": [
       "('tilemap', 'tile-2-1', 'curve_left', 'curve', 'lane1')"
      ]
     },
     "execution_count": 11,
     "metadata": {},
     "output_type": "execute_result"
    }
   ],
   "source": [
    "lane_pose.lane_segment_fqn"
   ]
  },
  {
   "cell_type": "code",
   "execution_count": null,
   "metadata": {},
   "outputs": [],
   "source": [
    "lane_pose.lane_pose"
   ]
  },
  {
   "cell_type": "code",
   "execution_count": null,
   "metadata": {},
   "outputs": [],
   "source": [
    "lane_pose.lane_segment_relative_pose"
   ]
  },
  {
   "cell_type": "code",
   "execution_count": null,
   "metadata": {},
   "outputs": [],
   "source": [
    "lane_pose.center_point"
   ]
  },
  {
   "cell_type": "code",
   "execution_count": null,
   "metadata": {},
   "outputs": [],
   "source": [
    "final_t = dw.SE2Transform.from_SE2(geo.SE2.multiply(lane_pose.lane_segment_transform.asmatrix2d().m, q))\n",
    "final_t"
   ]
  }
 ],
 "metadata": {
  "kernelspec": {
   "display_name": "Python 3",
   "language": "python",
   "name": "python3"
  },
  "language_info": {
   "codemirror_mode": {
    "name": "ipython",
    "version": 3
   },
   "file_extension": ".py",
   "mimetype": "text/x-python",
   "name": "python",
   "nbconvert_exporter": "python",
   "pygments_lexer": "ipython3",
   "version": "3.6.9"
  }
 },
 "nbformat": 4,
 "nbformat_minor": 4
}
