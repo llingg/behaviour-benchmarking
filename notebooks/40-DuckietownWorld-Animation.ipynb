{
 "cells": [
  {
   "cell_type": "markdown",
   "metadata": {},
   "source": [
    "## Setup"
   ]
  },
  {
   "cell_type": "code",
   "execution_count": 1,
   "metadata": {},
   "outputs": [],
   "source": [
    "# disabling contracts for speed\n",
    "import contracts\n",
    "contracts.disable_all()"
   ]
  },
  {
   "cell_type": "code",
   "execution_count": 2,
   "metadata": {},
   "outputs": [
    {
     "name": "stderr",
     "output_type": "stream",
     "text": [
      "INFO:dt-world:duckietown-world 5.0.10\n",
      "INFO:zuper-typing:zuper-typing 5.0.12\n",
      "INFO:zuper-commons:zuper-commons 5.0.7\n"
     ]
    }
   ],
   "source": [
    "import duckietown_world as dw"
   ]
  },
  {
   "cell_type": "code",
   "execution_count": 3,
   "metadata": {},
   "outputs": [],
   "source": [
    "# reducing the verbosity to critical\n",
    "dw.logger.setLevel(50)"
   ]
  },
  {
   "cell_type": "markdown",
   "metadata": {},
   "source": [
    "Utility function to draw in IPython:"
   ]
  },
  {
   "cell_type": "code",
   "execution_count": 4,
   "metadata": {},
   "outputs": [],
   "source": [
    "from duckietown_world.svg_drawing.ipython_utils import ipython_draw_svg, ipython_draw_html"
   ]
  },
  {
   "cell_type": "markdown",
   "metadata": {},
   "source": [
    "## Pose interpolation code"
   ]
  },
  {
   "cell_type": "code",
   "execution_count": 5,
   "metadata": {},
   "outputs": [],
   "source": [
    "import geometry as geo\n",
    "import numpy as np"
   ]
  },
  {
   "cell_type": "code",
   "execution_count": 6,
   "metadata": {},
   "outputs": [],
   "source": [
    "def interpolate(q0, q1, alpha):\n",
    "    v = geo.SE2.algebra_from_group(geo.SE2.multiply(geo.SE2.inverse(q0), q1))\n",
    "    vi = v * alpha\n",
    "    q = np.dot(q0, geo.SE2.group_from_algebra(vi))\n",
    "    return q"
   ]
  },
  {
   "cell_type": "markdown",
   "metadata": {},
   "source": [
    "## PlacedObject example\n",
    "\n",
    "All objects in the map are instances of `PlacedObject`. \n",
    "\n",
    "To create a new object, subclass `PlacedObject` and implement the drawing method `draw_svg` \n",
    "and the `extent_points` method.\n",
    "\n",
    "The SVG drawing is done using the [`svgwrite`][svgwrite] library.\n",
    "\n",
    "[svgwrite]: https://svgwrite.readthedocs.io/en/master/"
   ]
  },
  {
   "cell_type": "code",
   "execution_count": 7,
   "metadata": {},
   "outputs": [],
   "source": [
    "class Person(dw.PlacedObject):\n",
    "\n",
    "    def __init__(self, radius, *args, **kwargs):\n",
    "        self.radius = radius\n",
    "        dw.PlacedObject.__init__(self, *args, **kwargs)\n",
    "        \n",
    "    def draw_svg(self, drawing, g):\n",
    "        # drawing is done using the library svgwrite\n",
    "        c = drawing.circle(center=(0, 0), r=self.radius, fill='pink')\n",
    "        g.add(c)\n",
    "        # draws x,y axes\n",
    "        dw.draw_axes(drawing, g)\n",
    "\n",
    "    def extent_points(self):\n",
    "        # set of points describing the boundary \n",
    "        L = self.radius\n",
    "        return [(-L, -L), (+L, +L)]\n"
   ]
  },
  {
   "cell_type": "markdown",
   "metadata": {},
   "source": [
    "## Animation example\n",
    "\n",
    "Create the interpolated poses:"
   ]
  },
  {
   "cell_type": "code",
   "execution_count": 8,
   "metadata": {},
   "outputs": [],
   "source": [
    "q0 = geo.SE2_from_translation_angle([0, 0], 0)\n",
    "q1 = geo.SE2_from_translation_angle([2, -2], np.deg2rad(-90))\n",
    "\n",
    "# create a sequence of poses \n",
    "n = 10\n",
    "seqs = []\n",
    "steps = np.linspace(0, 1, num=n)\n",
    "for alpha in steps:\n",
    "    q = interpolate(q0, q1, alpha)\n",
    "    seqs.append(q)"
   ]
  },
  {
   "cell_type": "markdown",
   "metadata": {},
   "source": [
    "Create a root PlacedObject:"
   ]
  },
  {
   "cell_type": "code",
   "execution_count": 9,
   "metadata": {},
   "outputs": [],
   "source": [
    "root = dw.PlacedObject()"
   ]
  },
  {
   "cell_type": "markdown",
   "metadata": {},
   "source": [
    "Create a SampledSequence of the pose:"
   ]
  },
  {
   "cell_type": "code",
   "execution_count": 10,
   "metadata": {},
   "outputs": [
    {
     "name": "stdout",
     "output_type": "stream",
     "text": [
      "[0.0, 1.0, 2.0, 3.0, 4.0, 5.0, 6.0, 7.0, 8.0, 9.0]\n",
      "SE2Transform([0.0, 0.0],0.0)\n"
     ]
    }
   ],
   "source": [
    "timestamps = range(len(seqs)) # [0, 1, 2, ...]\n",
    "\n",
    "# SE2Transform is the wrapper for SE2 used by Duckietown World \n",
    "transforms = [dw.SE2Transform.from_SE2(_) for _ in seqs]\n",
    "seq_me = dw.SampledSequence[dw.SE2Transform](timestamps, transforms)\n",
    "\n",
    "print(seq_me.timestamps)\n",
    "\n",
    "print(seq_me.values[0])"
   ]
  },
  {
   "cell_type": "markdown",
   "metadata": {},
   "source": [
    "Add the object `me` to the root, saying it's a Person, and with the \n",
    "sequence above given as ground truth for the pose."
   ]
  },
  {
   "cell_type": "code",
   "execution_count": 11,
   "metadata": {},
   "outputs": [],
   "source": [
    "root.set_object(\"me\", Person(0.1), ground_truth=seq_me)"
   ]
  },
  {
   "cell_type": "markdown",
   "metadata": {},
   "source": [
    "Finally, draw the animation:"
   ]
  },
  {
   "cell_type": "code",
   "execution_count": 12,
   "metadata": {},
   "outputs": [
    {
     "data": {
      "text/html": [
       "\n",
       "        <iframe\n",
       "            width=\"100%\"\n",
       "            height=\"600\"\n",
       "            src=\"out/ipython_draw_html/4945784960/drawing.html\"\n",
       "            frameborder=\"0\"\n",
       "            allowfullscreen\n",
       "        ></iframe>\n",
       "        "
      ],
      "text/plain": [
       "<IPython.lib.display.IFrame at 0x1107127f0>"
      ]
     },
     "metadata": {},
     "output_type": "display_data"
    }
   ],
   "source": [
    "area = dw.RectangularArea((-1, -3), (3, 1))\n",
    "\n",
    "ipython_draw_html(root, area=area);"
   ]
  },
  {
   "cell_type": "markdown",
   "metadata": {},
   "source": [
    "Let's now get the lane object:"
   ]
  },
  {
   "cell_type": "code",
   "execution_count": 13,
   "metadata": {},
   "outputs": [],
   "source": [
    "from duckietown_world.world_duckietown.tile_template import load_tile_types"
   ]
  },
  {
   "cell_type": "code",
   "execution_count": 14,
   "metadata": {},
   "outputs": [],
   "source": [
    "template = load_tile_types()['curve_left']\n",
    "from copy import deepcopy\n",
    "lane_segment = deepcopy(template['curve/lane1'])"
   ]
  },
  {
   "cell_type": "markdown",
   "metadata": {},
   "source": [
    "We can use the function `lane_segment.lane_pose_from_SE2Transform` to get the \n",
    "lane pose information (relative heading, etc.), including the projection\n",
    "to the midlane."
   ]
  },
  {
   "cell_type": "code",
   "execution_count": 15,
   "metadata": {},
   "outputs": [
    {
     "name": "stdout",
     "output_type": "stream",
     "text": [
      "SE2Transform([-0.30000004477965014, -0.2999999798538675],-0.7853980221188869)\n",
      "SE2Transform([-0.2535450059194215, -0.3632753862930096],-1.0652213979619205)\n",
      "SE2Transform([-0.23237773765423692, -0.41395325931605537],-1.2606731111111593)\n",
      "SE2Transform([-0.2228051546175041, -0.45678452548267817],-1.4167709803329465)\n",
      "SE2Transform([-0.21998273997725254, -0.49513237845967717],-1.5535007969617751)\n",
      "SE2Transform([-0.21999999880790716, -0.7143834631692813],-1.5707963267948966)\n",
      "SE2Transform([-0.21999999880790722, -0.9999074253871845],-1.5707963267948966)\n",
      "SE2Transform([-0.21999999880790727, -1.3161948252544462],-1.5707963267948966)\n",
      "SE2Transform([-0.21999999880790735, -1.6519741583338639],-1.5707963267948966)\n",
      "SE2Transform([-0.21999999880790744, -2.000500609632275],-1.5707963267948966)\n"
     ]
    }
   ],
   "source": [
    "center_points = []\n",
    "\n",
    "for timestamp, pose_object in seq_me:\n",
    "    lane_pose = lane_segment.lane_pose_from_SE2Transform(pose_object)\n",
    "    print(lane_pose.center_point)\n",
    "    center_points.append(lane_pose.center_point)\n",
    "\n",
    "sequence = dw.SampledSequence[dw.SE2Transform](seq_me.timestamps, center_points)\n"
   ]
  },
  {
   "cell_type": "code",
   "execution_count": 16,
   "metadata": {},
   "outputs": [],
   "source": [
    "# we now add a marker for projection in the center point\n",
    "\n",
    "lane_segment.set_object(\"projection2\", dw.PlacedObject(), ground_truth=sequence)\n",
    "lane_segment.set_object(\"me\", Person(0.2), ground_truth=seq_me)\n"
   ]
  },
  {
   "cell_type": "code",
   "execution_count": 17,
   "metadata": {},
   "outputs": [
    {
     "data": {
      "text/html": [
       "\n",
       "        <iframe\n",
       "            width=\"100%\"\n",
       "            height=\"600\"\n",
       "            src=\"out/ipython_draw_html/4995266992/drawing.html\"\n",
       "            frameborder=\"0\"\n",
       "            allowfullscreen\n",
       "        ></iframe>\n",
       "        "
      ],
      "text/plain": [
       "<IPython.lib.display.IFrame at 0x1267cdb70>"
      ]
     },
     "metadata": {},
     "output_type": "display_data"
    }
   ],
   "source": [
    "ipython_draw_html(lane_segment);"
   ]
  },
  {
   "cell_type": "code",
   "execution_count": null,
   "metadata": {},
   "outputs": [],
   "source": []
  }
 ],
 "metadata": {
  "kernelspec": {
   "display_name": "Python 3",
   "language": "python",
   "name": "python3"
  },
  "language_info": {
   "codemirror_mode": {
    "name": "ipython",
    "version": 3
   },
   "file_extension": ".py",
   "mimetype": "text/x-python",
   "name": "python",
   "nbconvert_exporter": "python",
   "pygments_lexer": "ipython3",
   "version": "3.7.2"
  }
 },
 "nbformat": 4,
 "nbformat_minor": 2
}
