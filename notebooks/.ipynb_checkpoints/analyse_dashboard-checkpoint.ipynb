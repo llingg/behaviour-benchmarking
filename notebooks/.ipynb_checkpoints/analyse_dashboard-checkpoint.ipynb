{
 "cells": [
  {
   "cell_type": "markdown",
   "metadata": {},
   "source": [
    "# Analyze Dashboard Data\n",
    "If the script doesn't display properly (e.g. curly braces in the markdown) **trust the notebook** in the top right corner and rerender the markdown by running them again.\n"
   ]
  },
  {
   "cell_type": "code",
   "execution_count": 1,
   "metadata": {},
   "outputs": [
    {
     "data": {
      "application/vnd.jupyter.widget-view+json": {
       "model_id": "d17416ccbb824e259248aa47e12c1b97",
       "version_major": 2,
       "version_minor": 0
      },
      "text/plain": [
       "FileUpload(value={}, accept='.json', description='Upload')"
      ]
     },
     "metadata": {},
     "output_type": "display_data"
    }
   ],
   "source": [
    "from ipywidgets import FileUpload\n",
    "upload = FileUpload(accept='.json',\n",
    "    multiple=False)\n",
    "upload"
   ]
  },
  {
   "cell_type": "markdown",
   "metadata": {},
   "source": [
    "Make sure that you click and run the cell below after having chosen the correct .json file"
   ]
  },
  {
   "cell_type": "code",
   "execution_count": 14,
   "metadata": {},
   "outputs": [
    {
     "ename": "AttributeError",
     "evalue": "'_io.TextIOWrapper' object has no attribute 'data'",
     "output_type": "error",
     "traceback": [
      "\u001b[0;31m---------------------------------------------------------------------------\u001b[0m",
      "\u001b[0;31mAttributeError\u001b[0m                            Traceback (most recent call last)",
      "\u001b[0;32m<ipython-input-14-42728785b065>\u001b[0m in \u001b[0;36m<module>\u001b[0;34m\u001b[0m\n\u001b[1;32m      5\u001b[0m \u001b[0;34m\u001b[0m\u001b[0m\n\u001b[1;32m      6\u001b[0m \u001b[0;32mwith\u001b[0m \u001b[0mopen\u001b[0m\u001b[0;34m(\u001b[0m\u001b[0;34mr'../data/BenchmarkXY/take_10.json'\u001b[0m\u001b[0;34m)\u001b[0m \u001b[0;32mas\u001b[0m \u001b[0mfile\u001b[0m\u001b[0;34m:\u001b[0m\u001b[0;34m\u001b[0m\u001b[0;34m\u001b[0m\u001b[0m\n\u001b[0;32m----> 7\u001b[0;31m     \u001b[0mdocuments\u001b[0m \u001b[0;34m=\u001b[0m \u001b[0mjson\u001b[0m\u001b[0;34m.\u001b[0m\u001b[0mload\u001b[0m\u001b[0;34m(\u001b[0m\u001b[0mfile\u001b[0m\u001b[0;34m.\u001b[0m\u001b[0mdata\u001b[0m\u001b[0;34m[\u001b[0m\u001b[0;36m0\u001b[0m\u001b[0;34m]\u001b[0m\u001b[0;34m.\u001b[0m\u001b[0mdecode\u001b[0m\u001b[0;34m(\u001b[0m\u001b[0;34m'utf-8'\u001b[0m\u001b[0;34m)\u001b[0m\u001b[0;34m)\u001b[0m\u001b[0;34m\u001b[0m\u001b[0;34m\u001b[0m\u001b[0m\n\u001b[0m\u001b[1;32m      8\u001b[0m \u001b[0;34m\u001b[0m\u001b[0m\n\u001b[1;32m      9\u001b[0m     \u001b[0;32mfor\u001b[0m \u001b[0mitem\u001b[0m\u001b[0;34m,\u001b[0m \u001b[0mdoc\u001b[0m \u001b[0;32min\u001b[0m \u001b[0mdocuments\u001b[0m\u001b[0;34m.\u001b[0m\u001b[0mitems\u001b[0m\u001b[0;34m(\u001b[0m\u001b[0;34m)\u001b[0m\u001b[0;34m:\u001b[0m\u001b[0;34m\u001b[0m\u001b[0;34m\u001b[0m\u001b[0m\n",
      "\u001b[0;31mAttributeError\u001b[0m: '_io.TextIOWrapper' object has no attribute 'data'"
     ]
    }
   ],
   "source": [
    "import json\n",
    "import matplotlib.pyplot as plt\n",
    "import numpy as np\n",
    "from scipy import interpolate\n",
    "\n",
    "\n",
    "assert upload.data, 'File missing, please upload in above cell'\n",
    "data = json.loads(upload.data[0].decode('utf-8'))\n",
    "\n",
    "\n",
    "meas_name = ['Memory', 'Swap', 'CPU']\n",
    "\n",
    "bm_data = np.array([[],[],[],[]])\n",
    "t0= data['resources_stats'][0]['time']\n",
    "\n",
    "for meas in data['resources_stats']:\n",
    "    dat = np.array([[meas['time']-t0, meas['memory']['used']/meas['memory']['total']*100, meas['swap']['used']/meas['swap']['total']*100, meas['cpu']['pcpu']]])\n",
    "    bm_data = np.append(bm_data, dat.T, axis=1)\n",
    "\n",
    "\n",
    "time_ip = np.linspace(bm_data[0][0], bm_data[0][-1], 100) \n",
    "bm_ip = np.array([time_ip])\n",
    "\n",
    "fig, axes= plt.subplots(3, 1, figsize=(9, 8))\n",
    "fig.text(0.5, 0.04, 'time', ha='center', va='center')\n",
    "fig.text(0.03, 0.5, 'Performance', ha='center', va='center', rotation='vertical')\n",
    "\n",
    "for i in range(len(bm_data)-1):\n",
    "    tck = interpolate.splrep(bm_data[0], bm_data[i+1], s=0)\n",
    "    ip = np.array([interpolate.splev(bm_ip[0], tck, der=0)])\n",
    "    bm_ip = np.append(bm_ip, ip, axis=0)\n",
    "    \n",
    "    \n",
    "    axes[i].plot(bm_data[0], bm_data[i+1], bm_ip[0], bm_ip[i+1])\n",
    "    axes[i].legend(['Measurement', 'IP Measurement'])\n",
    "    axes[i].set_title(meas_name[i])\n",
    "    axes[i].set_ylim(0, 100)\n",
    "    \n",
    "    \n",
    "fig.suptitle('Diagnostics', fontsize=16)\n",
    "plt.show()"
   ]
  },
  {
   "cell_type": "markdown",
   "metadata": {},
   "source": [
    "# HW_Check Analyzis"
   ]
  },
  {
   "cell_type": "code",
   "execution_count": 7,
   "metadata": {},
   "outputs": [
    {
     "name": "stdout",
     "output_type": "stream",
     "text": [
      "verdict : True\n",
      "hostname : autobot01\n",
      "db_version : DB18\n",
      "date : 2020-05-05\n",
      "country : CH\n",
      "institution : ETHZ\n",
      "mac-adress : b8:27:eb:e2:65:35\n",
      "platform : RPI3B+\n",
      "hat_version : Duckiebot Hut\n",
      "usb-memory : No USB memory detected!\n",
      "sd-memory : 32GB\n",
      "battery : Duckiebattery v. 1.0\n",
      "actuation : DG01D dual-axis drive gear (48:1)\n",
      "wheel_type : Type 1\n",
      "camera : Waveshare Raspberry Pi Camera\n",
      "led_type : Type 1\n",
      "tester_name : Linus\n"
     ]
    }
   ],
   "source": [
    "import yaml\n",
    "import matplotlib.pyplot as plt\n",
    "import numpy as np\n",
    "from scipy import interpolate\n",
    "\n",
    "\n",
    "with open(r'../data/BenchmarkXY/CH_ETHZ_Linus_2020-05-05_DB18_hardware-compliance.yaml') as file:\n",
    "    documents = yaml.full_load(file)\n",
    "\n",
    "    for item, doc in documents.items():\n",
    "        print(item, \":\", doc)"
   ]
  },
  {
   "cell_type": "code",
   "execution_count": null,
   "metadata": {},
   "outputs": [],
   "source": []
  },
  {
   "cell_type": "code",
   "execution_count": null,
   "metadata": {},
   "outputs": [],
   "source": []
  }
 ],
 "metadata": {
  "file_extension": ".py",
  "kernelspec": {
   "display_name": "Python 3",
   "language": "python",
   "name": "python3"
  },
  "language_info": {
   "codemirror_mode": {
    "name": "ipython",
    "version": 3
   },
   "file_extension": ".py",
   "mimetype": "text/x-python",
   "name": "python",
   "nbconvert_exporter": "python",
   "pygments_lexer": "ipython3",
   "version": "3.6.9"
  },
  "mimetype": "text/x-python",
  "name": "python",
  "npconvert_exporter": "python",
  "pygments_lexer": "ipython3",
  "version": 3
 },
 "nbformat": 4,
 "nbformat_minor": 2
}
