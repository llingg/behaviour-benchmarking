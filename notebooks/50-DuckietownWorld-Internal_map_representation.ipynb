{
 "cells": [
  {
   "cell_type": "markdown",
   "metadata": {},
   "source": [
    "# Setup"
   ]
  },
  {
   "cell_type": "code",
   "execution_count": 1,
   "metadata": {},
   "outputs": [
    {
     "name": "stderr",
     "output_type": "stream",
     "text": [
      "INFO:dt-world:duckietown-world 5.0.10\n",
      "INFO:zuper-typing:zuper-typing 5.0.12\n",
      "INFO:zuper-commons:zuper-commons 5.0.7\n"
     ]
    }
   ],
   "source": [
    "import contracts\n",
    "contracts.disable_all()\n",
    "import duckietown_world as dw\n",
    "from duckietown_world.svg_drawing.ipython_utils import ipython_draw_html\n",
    "dw.logger.setLevel(50)"
   ]
  },
  {
   "cell_type": "markdown",
   "metadata": {},
   "source": [
    "Better visualization of output"
   ]
  },
  {
   "cell_type": "code",
   "execution_count": 2,
   "metadata": {},
   "outputs": [
    {
     "data": {
      "text/html": [
       "<style>\n",
       "pre {line-height: 90%}\n",
       "</style>\n"
      ],
      "text/plain": [
       "<IPython.core.display.HTML object>"
      ]
     },
     "metadata": {},
     "output_type": "display_data"
    }
   ],
   "source": [
    "%%html\n",
    "<style>\n",
    "pre {line-height: 90%}\n",
    "</style>"
   ]
  },
  {
   "cell_type": "markdown",
   "metadata": {},
   "source": [
    "# Map representation\n",
    "\n",
    "Let's load a map and see how data is represented inside:"
   ]
  },
  {
   "cell_type": "code",
   "execution_count": 3,
   "metadata": {},
   "outputs": [
    {
     "data": {
      "text/html": [
       "\n",
       "        <iframe\n",
       "            width=\"100%\"\n",
       "            height=\"600\"\n",
       "            src=\"out/ipython_draw_html/4540260304/drawing.html\"\n",
       "            frameborder=\"0\"\n",
       "            allowfullscreen\n",
       "        ></iframe>\n",
       "        "
      ],
      "text/plain": [
       "<IPython.lib.display.IFrame at 0x11d06f6a0>"
      ]
     },
     "metadata": {},
     "output_type": "display_data"
    }
   ],
   "source": [
    "m = dw.load_map('4way')\n",
    "ipython_draw_html(m);"
   ]
  },
  {
   "cell_type": "markdown",
   "metadata": {},
   "source": [
    "The map is a `DuckietownMap` which is an instance of `PlacedObject`. All spatially situated objects\n",
    "are instances of this class."
   ]
  },
  {
   "cell_type": "code",
   "execution_count": 4,
   "metadata": {},
   "outputs": [
    {
     "data": {
      "text/plain": [
       "[duckietown_world.world_duckietown.duckietown_map.DuckietownMap,\n",
       " duckietown_world.geo.placed_object.PlacedObject,\n",
       " duckietown_serialization_ds1.serialization1.Serializable,\n",
       " duckietown_serialization_ds1.serialization1.Serializable0,\n",
       " object]"
      ]
     },
     "execution_count": 4,
     "metadata": {},
     "output_type": "execute_result"
    }
   ],
   "source": [
    "type(m).mro() # see all superclasses of the object"
   ]
  },
  {
   "cell_type": "markdown",
   "metadata": {},
   "source": [
    "## Children"
   ]
  },
  {
   "cell_type": "markdown",
   "metadata": {},
   "source": [
    "The data is arranged in a hierarchy. We can visualize using the function `get_object_tree`. The hierarchy is more deep, but we clip it to 2 levels:"
   ]
  },
  {
   "cell_type": "code",
   "execution_count": 5,
   "metadata": {},
   "outputs": [
    {
     "name": "stdout",
     "output_type": "stream",
     "text": [
      "DuckietownMap\n",
      "\n",
      "├ ob00-trafficlight ┐ TrafficLight\n",
      "│                   └───────────────\n",
      "└ tilemap ┐ TileMap\n",
      "          │ \n",
      "          │ ├ tile-0-4 ┐ Tile\n",
      "          │ │          │\n",
      "          │ │          │ └ curve_left ┐ PlacedObject\n",
      "          │ │          │              │\n",
      "          │ │          │              │ └ curve ┐ PlacedObject\n",
      "          │ │          │              │         └───────────────\n",
      "          │ │          │              └───────────────────────────\n",
      "          │ │          └────────────────────────────────────────────\n",
      "          │ ├ tile-1-4 ┐ Tile\n",
      "          │ │          │\n",
      "          │ │          │ └ straight ┐ PlacedObject\n",
      "          │ │          │            │\n",
      "          │ │          │            │ ├ lane1 ┐ LaneSegment\n",
      "          │ │          │            │ │       └──────────────\n",
      "          │ │          │            │ └ lane2 ┐ LaneSegment\n",
      "          │ │          │            │         └──────────────\n",
      "          │ │          │            └──────────────────────────\n",
      "          │ │          └─────────────────────────────────────────\n",
      "          │ ├ tile-2-4 ┐ Tile\n",
      "          │ │          │\n",
      "          │ │          │ └ 3way_left ┐ PlacedObject\n",
      "          │ │          │             │\n",
      "          │ │          │             │ ├ west_go_straight ┐ LaneSegment\n",
      "          │ │          │             │ │                  └──────────────\n",
      "          │ │          │             │ ├ west_go_left ┐ LaneSegment\n",
      "          │ │          │             │ │              └──────────────\n",
      "          │ │          │             │ ├ north_go_left ┐ LaneSegment\n",
      "          │ │          │             │ │               └──────────────\n",
      "          │ │          │             │ ├ north_go_right ┐ LaneSegment\n",
      "          │ │          │             │ │                └──────────────\n",
      "          │ │          │             │ ├ east_go_right ┐ LaneSegment\n",
      "          │ │          │             │ │               └──────────────\n",
      "          │ │          │             │ └ east_go_straight ┐ LaneSegment\n",
      "          │ │          │             │                    └──────────────\n",
      "          │ │          │             └─────────────────────────────────────\n",
      "          │ │          └─────────────────────────────────────────────────────\n",
      "          │ ├ tile-3-4 ┐ Tile\n",
      "          │ │          │\n",
      "          │ │          │ └ straight ┐ PlacedObject\n",
      "          │ │          │            │\n",
      "          │ │          │            │ ├ lane1 ┐ LaneSegment\n",
      "          │ │          │            │ │       └──────────────\n",
      "          │ │          │            │ └ lane2 ┐ LaneSegment\n",
      "          │ │          │            │         └──────────────\n",
      "          │ │          │            └──────────────────────────\n",
      "          │ │          └─────────────────────────────────────────\n",
      "          │ ├ tile-4-4 ┐ Tile\n",
      "          │ │          │\n",
      "          │ │          │ └ curve_left ┐ PlacedObject\n",
      "          │ │          │              │\n",
      "          │ │          │              │ └ curve ┐ PlacedObject\n",
      "          │ │          │              │         └───────────────\n",
      "          │ │          │              └───────────────────────────\n",
      "          │ │          └────────────────────────────────────────────\n",
      "          │ ├ tile-0-3 ┐ Tile\n",
      "          │ │          │\n",
      "          │ │          │ └ straight ┐ PlacedObject\n",
      "          │ │          │            │\n",
      "          │ │          │            │ ├ lane1 ┐ LaneSegment\n",
      "          │ │          │            │ │       └──────────────\n",
      "          │ │          │            │ └ lane2 ┐ LaneSegment\n",
      "          │ │          │            │         └──────────────\n",
      "          │ │          │            └──────────────────────────\n",
      "          │ │          └─────────────────────────────────────────\n",
      "          │ ├ tile-1-3 ┐ Tile\n",
      "          │ │          └───────\n",
      "          │ ├ tile-2-3 ┐ Tile\n",
      "          │ │          │\n",
      "          │ │          │ └ straight ┐ PlacedObject\n",
      "          │ │          │            │\n",
      "          │ │          │            │ ├ lane1 ┐ LaneSegment\n",
      "          │ │          │            │ │       └──────────────\n",
      "          │ │          │            │ └ lane2 ┐ LaneSegment\n",
      "          │ │          │            │         └──────────────\n",
      "          │ │          │            └──────────────────────────\n",
      "          │ │          └─────────────────────────────────────────\n",
      "          │ ├ tile-3-3 ┐ Tile\n",
      "          │ │          └───────\n",
      "          │ ├ tile-4-3 ┐ Tile\n",
      "          │ │          │\n",
      "          │ │          │ └ straight ┐ PlacedObject\n",
      "          │ │          │            │\n",
      "          │ │          │            │ ├ lane1 ┐ LaneSegment\n",
      "          │ │          │            │ │       └──────────────\n",
      "          │ │          │            │ └ lane2 ┐ LaneSegment\n",
      "          │ │          │            │         └──────────────\n",
      "          │ │          │            └──────────────────────────\n",
      "          │ │          └─────────────────────────────────────────\n",
      "          │ ├ tile-0-2 ┐ Tile\n",
      "          │ │          │\n",
      "          │ │          │ └ 3way_left ┐ PlacedObject\n",
      "          │ │          │             │\n",
      "          │ │          │             │ ├ west_go_straight ┐ LaneSegment\n",
      "          │ │          │             │ │                  └──────────────\n",
      "          │ │          │             │ ├ west_go_left ┐ LaneSegment\n",
      "          │ │          │             │ │              └──────────────\n",
      "          │ │          │             │ ├ north_go_left ┐ LaneSegment\n",
      "          │ │          │             │ │               └──────────────\n",
      "          │ │          │             │ ├ north_go_right ┐ LaneSegment\n",
      "          │ │          │             │ │                └──────────────\n",
      "          │ │          │             │ ├ east_go_right ┐ LaneSegment\n",
      "          │ │          │             │ │               └──────────────\n",
      "          │ │          │             │ └ east_go_straight ┐ LaneSegment\n",
      "          │ │          │             │                    └──────────────\n",
      "          │ │          │             └─────────────────────────────────────\n",
      "          │ │          └─────────────────────────────────────────────────────\n",
      "          │ ├ tile-1-2 ┐ Tile\n",
      "          │ │          │\n",
      "          │ │          │ └ straight ┐ PlacedObject\n",
      "          │ │          │            │\n",
      "          │ │          │            │ ├ lane1 ┐ LaneSegment\n",
      "          │ │          │            │ │       └──────────────\n",
      "          │ │          │            │ └ lane2 ┐ LaneSegment\n",
      "          │ │          │            │         └──────────────\n",
      "          │ │          │            └──────────────────────────\n",
      "          │ │          └─────────────────────────────────────────\n",
      "          │ ├ tile-2-2 ┐ Tile\n",
      "          │ │          │\n",
      "          │ │          │ └ 4way ┐ PlacedObject\n",
      "          │ │          │        │\n",
      "          │ │          │        │ ├ a ┐ PlacedObject\n",
      "          │ │          │        │ │   └───────────────\n",
      "          │ │          │        │ ├ b ┐ PlacedObject\n",
      "          │ │          │        │ │   └───────────────\n",
      "          │ │          │        │ ├ c ┐ PlacedObject\n",
      "          │ │          │        │ │   └───────────────\n",
      "          │ │          │        │ └ d ┐ PlacedObject\n",
      "          │ │          │        │     └───────────────\n",
      "          │ │          │        └───────────────────────\n",
      "          │ │          └──────────────────────────────────\n",
      "          │ ├ tile-3-2 ┐ Tile\n",
      "          │ │          │\n",
      "          │ │          │ └ straight ┐ PlacedObject\n",
      "          │ │          │            │\n",
      "          │ │          │            │ ├ lane1 ┐ LaneSegment\n",
      "          │ │          │            │ │       └──────────────\n",
      "          │ │          │            │ └ lane2 ┐ LaneSegment\n",
      "          │ │          │            │         └──────────────\n",
      "          │ │          │            └──────────────────────────\n",
      "          │ │          └─────────────────────────────────────────\n",
      "          │ ├ tile-4-2 ┐ Tile\n",
      "          │ │          │\n",
      "          │ │          │ └ 3way_left ┐ PlacedObject\n",
      "          │ │          │             │\n",
      "          │ │          │             │ ├ west_go_straight ┐ LaneSegment\n",
      "          │ │          │             │ │                  └──────────────\n",
      "          │ │          │             │ ├ west_go_left ┐ LaneSegment\n",
      "          │ │          │             │ │              └──────────────\n",
      "          │ │          │             │ ├ north_go_left ┐ LaneSegment\n",
      "          │ │          │             │ │               └──────────────\n",
      "          │ │          │             │ ├ north_go_right ┐ LaneSegment\n",
      "          │ │          │             │ │                └──────────────\n",
      "          │ │          │             │ ├ east_go_right ┐ LaneSegment\n",
      "          │ │          │             │ │               └──────────────\n",
      "          │ │          │             │ └ east_go_straight ┐ LaneSegment\n",
      "          │ │          │             │                    └──────────────\n",
      "          │ │          │             └─────────────────────────────────────\n",
      "          │ │          └─────────────────────────────────────────────────────\n",
      "          │ ├ tile-0-1 ┐ Tile\n",
      "          │ │          │\n",
      "          │ │          │ └ straight ┐ PlacedObject\n",
      "          │ │          │            │\n",
      "          │ │          │            │ ├ lane1 ┐ LaneSegment\n",
      "          │ │          │            │ │       └──────────────\n",
      "          │ │          │            │ └ lane2 ┐ LaneSegment\n",
      "          │ │          │            │         └──────────────\n",
      "          │ │          │            └──────────────────────────\n",
      "          │ │          └─────────────────────────────────────────\n",
      "          │ ├ tile-1-1 ┐ Tile\n",
      "          │ │          └───────\n",
      "          │ ├ tile-2-1 ┐ Tile\n",
      "          │ │          │\n",
      "          │ │          │ └ straight ┐ PlacedObject\n",
      "          │ │          │            │\n",
      "          │ │          │            │ ├ lane1 ┐ LaneSegment\n",
      "          │ │          │            │ │       └──────────────\n",
      "          │ │          │            │ └ lane2 ┐ LaneSegment\n",
      "          │ │          │            │         └──────────────\n",
      "          │ │          │            └──────────────────────────\n",
      "          │ │          └─────────────────────────────────────────\n",
      "          │ ├ tile-3-1 ┐ Tile\n",
      "          │ │          └───────\n",
      "          │ ├ tile-4-1 ┐ Tile\n",
      "          │ │          │\n",
      "          │ │          │ └ straight ┐ PlacedObject\n",
      "          │ │          │            │\n",
      "          │ │          │            │ ├ lane1 ┐ LaneSegment\n",
      "          │ │          │            │ │       └──────────────\n",
      "          │ │          │            │ └ lane2 ┐ LaneSegment\n",
      "          │ │          │            │         └──────────────\n",
      "          │ │          │            └──────────────────────────\n",
      "          │ │          └─────────────────────────────────────────\n",
      "          │ ├ tile-0-0 ┐ Tile\n",
      "          │ │          │\n",
      "          │ │          │ └ curve_left ┐ PlacedObject\n",
      "          │ │          │              │\n",
      "          │ │          │              │ └ curve ┐ PlacedObject\n",
      "          │ │          │              │         └───────────────\n",
      "          │ │          │              └───────────────────────────\n",
      "          │ │          └────────────────────────────────────────────\n",
      "          │ ├ tile-1-0 ┐ Tile\n",
      "          │ │          │\n",
      "          │ │          │ └ straight ┐ PlacedObject\n",
      "          │ │          │            │\n",
      "          │ │          │            │ ├ lane1 ┐ LaneSegment\n",
      "          │ │          │            │ │       └──────────────\n",
      "          │ │          │            │ └ lane2 ┐ LaneSegment\n",
      "          │ │          │            │         └──────────────\n",
      "          │ │          │            └──────────────────────────\n",
      "          │ │          └─────────────────────────────────────────\n",
      "          │ ├ tile-2-0 ┐ Tile\n",
      "          │ │          │\n",
      "          │ │          │ └ 3way_left ┐ PlacedObject\n",
      "          │ │          │             │\n",
      "          │ │          │             │ ├ west_go_straight ┐ LaneSegment\n",
      "          │ │          │             │ │                  └──────────────\n",
      "          │ │          │             │ ├ west_go_left ┐ LaneSegment\n",
      "          │ │          │             │ │              └──────────────\n",
      "          │ │          │             │ ├ north_go_left ┐ LaneSegment\n",
      "          │ │          │             │ │               └──────────────\n",
      "          │ │          │             │ ├ north_go_right ┐ LaneSegment\n",
      "          │ │          │             │ │                └──────────────\n",
      "          │ │          │             │ ├ east_go_right ┐ LaneSegment\n",
      "          │ │          │             │ │               └──────────────\n",
      "          │ │          │             │ └ east_go_straight ┐ LaneSegment\n",
      "          │ │          │             │                    └──────────────\n",
      "          │ │          │             └─────────────────────────────────────\n",
      "          │ │          └─────────────────────────────────────────────────────\n",
      "          │ ├ tile-3-0 ┐ Tile\n",
      "          │ │          │\n",
      "          │ │          │ └ straight ┐ PlacedObject\n",
      "          │ │          │            │\n",
      "          │ │          │            │ ├ lane1 ┐ LaneSegment\n",
      "          │ │          │            │ │       └──────────────\n",
      "          │ │          │            │ └ lane2 ┐ LaneSegment\n",
      "          │ │          │            │         └──────────────\n",
      "          │ │          │            └──────────────────────────\n",
      "          │ │          └─────────────────────────────────────────\n",
      "          │ └ tile-4-0 ┐ Tile\n",
      "          │            │\n",
      "          │            │ └ curve_left ┐ PlacedObject\n",
      "          │            │              │\n",
      "          │            │              │ └ curve ┐ PlacedObject\n",
      "          │            │              │         └───────────────\n",
      "          │            │              └───────────────────────────\n",
      "          │            └────────────────────────────────────────────\n",
      "          └────────────────────────────────────────────────────────────────────\n"
     ]
    }
   ],
   "source": [
    "print(dw.get_object_tree(m, levels=4))"
   ]
  },
  {
   "cell_type": "markdown",
   "metadata": {},
   "source": [
    "The children are available in the `children` variable:"
   ]
  },
  {
   "cell_type": "code",
   "execution_count": 6,
   "metadata": {},
   "outputs": [
    {
     "data": {
      "text/plain": [
       "{'ob00-trafficlight': TrafficLight(children={}, spatial_relations={}),\n",
       " 'tilemap': TileMap(children={'tile-0-4': Tile(children={'curve_left': PlacedObject(children={'curve': PlacedObject(children={'lane1': LaneSegment(children={}, spatial_relations={}), 'lane2': LaneSegment(children={}, spatial_relations={})}, spatial_relations={'lane1': GroundTruth(() -> ('lane1',)  SE2Transform([0.0, 0.0],0.0)), 'lane2': GroundTruth(() -> ('lane2',)  SE2Transform([0.0, 0.0],1.5707963267948966))})}, spatial_relations={'curve': GroundTruth(() -> ('curve',)  SE2Transform([0.0, 0.0],4.71238898038469))})}, spatial_relations={1: GroundTruth(() -> ('curve_left',)  SE2Transform([0.0, 0.0],0.0))}), 'tile-1-4': Tile(children={'straight': PlacedObject(children={'lane1': LaneSegment(children={}, spatial_relations={}), 'lane2': LaneSegment(children={}, spatial_relations={})}, spatial_relations={'lane1': GroundTruth(() -> ('lane1',)  SE2Transform([0.0, 0.0],0.0)), 'lane2': GroundTruth(() -> ('lane2',)  SE2Transform([0.0, 0.0],3.141592653589793))})}, spatial_relations={1: GroundTruth(() -> ('straight',)  SE2Transform([0.0, 0.0],0.0))}), 'tile-2-4': Tile(children={'3way_left': PlacedObject(children={'west_go_straight': LaneSegment(children={}, spatial_relations={}), 'west_go_left': LaneSegment(children={}, spatial_relations={}), 'north_go_left': LaneSegment(children={}, spatial_relations={}), 'north_go_right': LaneSegment(children={}, spatial_relations={}), 'east_go_right': LaneSegment(children={}, spatial_relations={}), 'east_go_straight': LaneSegment(children={}, spatial_relations={})}, spatial_relations={'west_go_straight': GroundTruth(() -> ('west_go_straight',)  SE2Transform([0.0, 0.0],0.0)), 'west_go_left': GroundTruth(() -> ('west_go_left',)  SE2Transform([0.0, 0.0],0.0)), 'north_go_left': GroundTruth(() -> ('north_go_left',)  SE2Transform([0.0, 0.0],-1.5707963267948966)), 'north_go_right': GroundTruth(() -> ('north_go_right',)  SE2Transform([0.0, 0.0],-1.5707963267948966)), 'east_go_right': GroundTruth(() -> ('east_go_right',)  SE2Transform([0.0, 0.0],3.141592653589793)), 'east_go_straight': GroundTruth(() -> ('east_go_straight',)  SE2Transform([0.0, 0.0],3.141592653589793))})}, spatial_relations={1: GroundTruth(() -> ('3way_left',)  SE2Transform([0.0, 0.0],0.0))}), 'tile-3-4': Tile(children={'straight': PlacedObject(children={'lane1': LaneSegment(children={}, spatial_relations={}), 'lane2': LaneSegment(children={}, spatial_relations={})}, spatial_relations={'lane1': GroundTruth(() -> ('lane1',)  SE2Transform([0.0, 0.0],0.0)), 'lane2': GroundTruth(() -> ('lane2',)  SE2Transform([0.0, 0.0],3.141592653589793))})}, spatial_relations={1: GroundTruth(() -> ('straight',)  SE2Transform([0.0, 0.0],0.0))}), 'tile-4-4': Tile(children={'curve_left': PlacedObject(children={'curve': PlacedObject(children={'lane1': LaneSegment(children={}, spatial_relations={}), 'lane2': LaneSegment(children={}, spatial_relations={})}, spatial_relations={'lane1': GroundTruth(() -> ('lane1',)  SE2Transform([0.0, 0.0],0.0)), 'lane2': GroundTruth(() -> ('lane2',)  SE2Transform([0.0, 0.0],1.5707963267948966))})}, spatial_relations={'curve': GroundTruth(() -> ('curve',)  SE2Transform([0.0, 0.0],4.71238898038469))})}, spatial_relations={1: GroundTruth(() -> ('curve_left',)  SE2Transform([0.0, 0.0],0.0))}), 'tile-0-3': Tile(children={'straight': PlacedObject(children={'lane1': LaneSegment(children={}, spatial_relations={}), 'lane2': LaneSegment(children={}, spatial_relations={})}, spatial_relations={'lane1': GroundTruth(() -> ('lane1',)  SE2Transform([0.0, 0.0],0.0)), 'lane2': GroundTruth(() -> ('lane2',)  SE2Transform([0.0, 0.0],3.141592653589793))})}, spatial_relations={1: GroundTruth(() -> ('straight',)  SE2Transform([0.0, 0.0],0.0))}), 'tile-1-3': Tile(children={}, spatial_relations={}), 'tile-2-3': Tile(children={'straight': PlacedObject(children={'lane1': LaneSegment(children={}, spatial_relations={}), 'lane2': LaneSegment(children={}, spatial_relations={})}, spatial_relations={'lane1': GroundTruth(() -> ('lane1',)  SE2Transform([0.0, 0.0],0.0)), 'lane2': GroundTruth(() -> ('lane2',)  SE2Transform([0.0, 0.0],3.141592653589793))})}, spatial_relations={1: GroundTruth(() -> ('straight',)  SE2Transform([0.0, 0.0],0.0))}), 'tile-3-3': Tile(children={}, spatial_relations={}), 'tile-4-3': Tile(children={'straight': PlacedObject(children={'lane1': LaneSegment(children={}, spatial_relations={}), 'lane2': LaneSegment(children={}, spatial_relations={})}, spatial_relations={'lane1': GroundTruth(() -> ('lane1',)  SE2Transform([0.0, 0.0],0.0)), 'lane2': GroundTruth(() -> ('lane2',)  SE2Transform([0.0, 0.0],3.141592653589793))})}, spatial_relations={1: GroundTruth(() -> ('straight',)  SE2Transform([0.0, 0.0],0.0))}), 'tile-0-2': Tile(children={'3way_left': PlacedObject(children={'west_go_straight': LaneSegment(children={}, spatial_relations={}), 'west_go_left': LaneSegment(children={}, spatial_relations={}), 'north_go_left': LaneSegment(children={}, spatial_relations={}), 'north_go_right': LaneSegment(children={}, spatial_relations={}), 'east_go_right': LaneSegment(children={}, spatial_relations={}), 'east_go_straight': LaneSegment(children={}, spatial_relations={})}, spatial_relations={'west_go_straight': GroundTruth(() -> ('west_go_straight',)  SE2Transform([0.0, 0.0],0.0)), 'west_go_left': GroundTruth(() -> ('west_go_left',)  SE2Transform([0.0, 0.0],0.0)), 'north_go_left': GroundTruth(() -> ('north_go_left',)  SE2Transform([0.0, 0.0],-1.5707963267948966)), 'north_go_right': GroundTruth(() -> ('north_go_right',)  SE2Transform([0.0, 0.0],-1.5707963267948966)), 'east_go_right': GroundTruth(() -> ('east_go_right',)  SE2Transform([0.0, 0.0],3.141592653589793)), 'east_go_straight': GroundTruth(() -> ('east_go_straight',)  SE2Transform([0.0, 0.0],3.141592653589793))})}, spatial_relations={1: GroundTruth(() -> ('3way_left',)  SE2Transform([0.0, 0.0],0.0))}), 'tile-1-2': Tile(children={'straight': PlacedObject(children={'lane1': LaneSegment(children={}, spatial_relations={}), 'lane2': LaneSegment(children={}, spatial_relations={})}, spatial_relations={'lane1': GroundTruth(() -> ('lane1',)  SE2Transform([0.0, 0.0],0.0)), 'lane2': GroundTruth(() -> ('lane2',)  SE2Transform([0.0, 0.0],3.141592653589793))})}, spatial_relations={1: GroundTruth(() -> ('straight',)  SE2Transform([0.0, 0.0],0.0))}), 'tile-2-2': Tile(children={'4way': PlacedObject(children={'a': PlacedObject(children={'go_right': LaneSegment(children={}, spatial_relations={}), 'go_left': LaneSegment(children={}, spatial_relations={}), 'go_straight': LaneSegment(children={}, spatial_relations={})}, spatial_relations={'go_right': GroundTruth(() -> ('go_right',)  SE2Transform([0.0, 0.0],0.0)), 'go_left': GroundTruth(() -> ('go_left',)  SE2Transform([0.0, 0.0],0.0)), 'go_straight': GroundTruth(() -> ('go_straight',)  SE2Transform([0.0, 0.0],0.0))}), 'b': PlacedObject(children={'go_right': LaneSegment(children={}, spatial_relations={}), 'go_left': LaneSegment(children={}, spatial_relations={}), 'go_straight': LaneSegment(children={}, spatial_relations={})}, spatial_relations={'go_right': GroundTruth(() -> ('go_right',)  SE2Transform([0.0, 0.0],0.0)), 'go_left': GroundTruth(() -> ('go_left',)  SE2Transform([0.0, 0.0],0.0)), 'go_straight': GroundTruth(() -> ('go_straight',)  SE2Transform([0.0, 0.0],0.0))}), 'c': PlacedObject(children={'go_right': LaneSegment(children={}, spatial_relations={}), 'go_left': LaneSegment(children={}, spatial_relations={}), 'go_straight': LaneSegment(children={}, spatial_relations={})}, spatial_relations={'go_right': GroundTruth(() -> ('go_right',)  SE2Transform([0.0, 0.0],0.0)), 'go_left': GroundTruth(() -> ('go_left',)  SE2Transform([0.0, 0.0],0.0)), 'go_straight': GroundTruth(() -> ('go_straight',)  SE2Transform([0.0, 0.0],0.0))}), 'd': PlacedObject(children={'go_right': LaneSegment(children={}, spatial_relations={}), 'go_left': LaneSegment(children={}, spatial_relations={}), 'go_straight': LaneSegment(children={}, spatial_relations={})}, spatial_relations={'go_right': GroundTruth(() -> ('go_right',)  SE2Transform([0.0, 0.0],0.0)), 'go_left': GroundTruth(() -> ('go_left',)  SE2Transform([0.0, 0.0],0.0)), 'go_straight': GroundTruth(() -> ('go_straight',)  SE2Transform([0.0, 0.0],0.0))})}, spatial_relations={'a': GroundTruth(() -> ('a',)  SE2Transform([0.0, 0.0],0.0)), 'b': GroundTruth(() -> ('b',)  SE2Transform([0.0, 0.0],1.5707963267948966)), 'c': GroundTruth(() -> ('c',)  SE2Transform([0.0, 0.0],3.141592653589793)), 'd': GroundTruth(() -> ('d',)  SE2Transform([0.0, 0.0],4.71238898038469))})}, spatial_relations={1: GroundTruth(() -> ('4way',)  SE2Transform([0.0, 0.0],0.0))}), 'tile-3-2': Tile(children={'straight': PlacedObject(children={'lane1': LaneSegment(children={}, spatial_relations={}), 'lane2': LaneSegment(children={}, spatial_relations={})}, spatial_relations={'lane1': GroundTruth(() -> ('lane1',)  SE2Transform([0.0, 0.0],0.0)), 'lane2': GroundTruth(() -> ('lane2',)  SE2Transform([0.0, 0.0],3.141592653589793))})}, spatial_relations={1: GroundTruth(() -> ('straight',)  SE2Transform([0.0, 0.0],0.0))}), 'tile-4-2': Tile(children={'3way_left': PlacedObject(children={'west_go_straight': LaneSegment(children={}, spatial_relations={}), 'west_go_left': LaneSegment(children={}, spatial_relations={}), 'north_go_left': LaneSegment(children={}, spatial_relations={}), 'north_go_right': LaneSegment(children={}, spatial_relations={}), 'east_go_right': LaneSegment(children={}, spatial_relations={}), 'east_go_straight': LaneSegment(children={}, spatial_relations={})}, spatial_relations={'west_go_straight': GroundTruth(() -> ('west_go_straight',)  SE2Transform([0.0, 0.0],0.0)), 'west_go_left': GroundTruth(() -> ('west_go_left',)  SE2Transform([0.0, 0.0],0.0)), 'north_go_left': GroundTruth(() -> ('north_go_left',)  SE2Transform([0.0, 0.0],-1.5707963267948966)), 'north_go_right': GroundTruth(() -> ('north_go_right',)  SE2Transform([0.0, 0.0],-1.5707963267948966)), 'east_go_right': GroundTruth(() -> ('east_go_right',)  SE2Transform([0.0, 0.0],3.141592653589793)), 'east_go_straight': GroundTruth(() -> ('east_go_straight',)  SE2Transform([0.0, 0.0],3.141592653589793))})}, spatial_relations={1: GroundTruth(() -> ('3way_left',)  SE2Transform([0.0, 0.0],0.0))}), 'tile-0-1': Tile(children={'straight': PlacedObject(children={'lane1': LaneSegment(children={}, spatial_relations={}), 'lane2': LaneSegment(children={}, spatial_relations={})}, spatial_relations={'lane1': GroundTruth(() -> ('lane1',)  SE2Transform([0.0, 0.0],0.0)), 'lane2': GroundTruth(() -> ('lane2',)  SE2Transform([0.0, 0.0],3.141592653589793))})}, spatial_relations={1: GroundTruth(() -> ('straight',)  SE2Transform([0.0, 0.0],0.0))}), 'tile-1-1': Tile(children={}, spatial_relations={}), 'tile-2-1': Tile(children={'straight': PlacedObject(children={'lane1': LaneSegment(children={}, spatial_relations={}), 'lane2': LaneSegment(children={}, spatial_relations={})}, spatial_relations={'lane1': GroundTruth(() -> ('lane1',)  SE2Transform([0.0, 0.0],0.0)), 'lane2': GroundTruth(() -> ('lane2',)  SE2Transform([0.0, 0.0],3.141592653589793))})}, spatial_relations={1: GroundTruth(() -> ('straight',)  SE2Transform([0.0, 0.0],0.0))}), 'tile-3-1': Tile(children={}, spatial_relations={}), 'tile-4-1': Tile(children={'straight': PlacedObject(children={'lane1': LaneSegment(children={}, spatial_relations={}), 'lane2': LaneSegment(children={}, spatial_relations={})}, spatial_relations={'lane1': GroundTruth(() -> ('lane1',)  SE2Transform([0.0, 0.0],0.0)), 'lane2': GroundTruth(() -> ('lane2',)  SE2Transform([0.0, 0.0],3.141592653589793))})}, spatial_relations={1: GroundTruth(() -> ('straight',)  SE2Transform([0.0, 0.0],0.0))}), 'tile-0-0': Tile(children={'curve_left': PlacedObject(children={'curve': PlacedObject(children={'lane1': LaneSegment(children={}, spatial_relations={}), 'lane2': LaneSegment(children={}, spatial_relations={})}, spatial_relations={'lane1': GroundTruth(() -> ('lane1',)  SE2Transform([0.0, 0.0],0.0)), 'lane2': GroundTruth(() -> ('lane2',)  SE2Transform([0.0, 0.0],1.5707963267948966))})}, spatial_relations={'curve': GroundTruth(() -> ('curve',)  SE2Transform([0.0, 0.0],4.71238898038469))})}, spatial_relations={1: GroundTruth(() -> ('curve_left',)  SE2Transform([0.0, 0.0],0.0))}), 'tile-1-0': Tile(children={'straight': PlacedObject(children={'lane1': LaneSegment(children={}, spatial_relations={}), 'lane2': LaneSegment(children={}, spatial_relations={})}, spatial_relations={'lane1': GroundTruth(() -> ('lane1',)  SE2Transform([0.0, 0.0],0.0)), 'lane2': GroundTruth(() -> ('lane2',)  SE2Transform([0.0, 0.0],3.141592653589793))})}, spatial_relations={1: GroundTruth(() -> ('straight',)  SE2Transform([0.0, 0.0],0.0))}), 'tile-2-0': Tile(children={'3way_left': PlacedObject(children={'west_go_straight': LaneSegment(children={}, spatial_relations={}), 'west_go_left': LaneSegment(children={}, spatial_relations={}), 'north_go_left': LaneSegment(children={}, spatial_relations={}), 'north_go_right': LaneSegment(children={}, spatial_relations={}), 'east_go_right': LaneSegment(children={}, spatial_relations={}), 'east_go_straight': LaneSegment(children={}, spatial_relations={})}, spatial_relations={'west_go_straight': GroundTruth(() -> ('west_go_straight',)  SE2Transform([0.0, 0.0],0.0)), 'west_go_left': GroundTruth(() -> ('west_go_left',)  SE2Transform([0.0, 0.0],0.0)), 'north_go_left': GroundTruth(() -> ('north_go_left',)  SE2Transform([0.0, 0.0],-1.5707963267948966)), 'north_go_right': GroundTruth(() -> ('north_go_right',)  SE2Transform([0.0, 0.0],-1.5707963267948966)), 'east_go_right': GroundTruth(() -> ('east_go_right',)  SE2Transform([0.0, 0.0],3.141592653589793)), 'east_go_straight': GroundTruth(() -> ('east_go_straight',)  SE2Transform([0.0, 0.0],3.141592653589793))})}, spatial_relations={1: GroundTruth(() -> ('3way_left',)  SE2Transform([0.0, 0.0],0.0))}), 'tile-3-0': Tile(children={'straight': PlacedObject(children={'lane1': LaneSegment(children={}, spatial_relations={}), 'lane2': LaneSegment(children={}, spatial_relations={})}, spatial_relations={'lane1': GroundTruth(() -> ('lane1',)  SE2Transform([0.0, 0.0],0.0)), 'lane2': GroundTruth(() -> ('lane2',)  SE2Transform([0.0, 0.0],3.141592653589793))})}, spatial_relations={1: GroundTruth(() -> ('straight',)  SE2Transform([0.0, 0.0],0.0))}), 'tile-4-0': Tile(children={'curve_left': PlacedObject(children={'curve': PlacedObject(children={'lane1': LaneSegment(children={}, spatial_relations={}), 'lane2': LaneSegment(children={}, spatial_relations={})}, spatial_relations={'lane1': GroundTruth(() -> ('lane1',)  SE2Transform([0.0, 0.0],0.0)), 'lane2': GroundTruth(() -> ('lane2',)  SE2Transform([0.0, 0.0],1.5707963267948966))})}, spatial_relations={'curve': GroundTruth(() -> ('curve',)  SE2Transform([0.0, 0.0],4.71238898038469))})}, spatial_relations={1: GroundTruth(() -> ('curve_left',)  SE2Transform([0.0, 0.0],0.0))})}, spatial_relations={0: GroundTruth(() -> ('tile-0-4',)  TileCoords(i=0,j=4,orientation=W)), 1: GroundTruth(() -> ('tile-1-4',)  TileCoords(i=1,j=4,orientation=W)), 2: GroundTruth(() -> ('tile-2-4',)  TileCoords(i=2,j=4,orientation=W)), 3: GroundTruth(() -> ('tile-3-4',)  TileCoords(i=3,j=4,orientation=W)), 4: GroundTruth(() -> ('tile-4-4',)  TileCoords(i=4,j=4,orientation=N)), 5: GroundTruth(() -> ('tile-0-3',)  TileCoords(i=0,j=3,orientation=S)), 6: GroundTruth(() -> ('tile-1-3',)  TileCoords(i=1,j=3,orientation=E)), 7: GroundTruth(() -> ('tile-2-3',)  TileCoords(i=2,j=3,orientation=N)), 8: GroundTruth(() -> ('tile-3-3',)  TileCoords(i=3,j=3,orientation=E)), 9: GroundTruth(() -> ('tile-4-3',)  TileCoords(i=4,j=3,orientation=N)), 10: GroundTruth(() -> ('tile-0-2',)  TileCoords(i=0,j=2,orientation=S)), 11: GroundTruth(() -> ('tile-1-2',)  TileCoords(i=1,j=2,orientation=W)), 12: GroundTruth(() -> ('tile-2-2',)  TileCoords(i=2,j=2,orientation=E)), 13: GroundTruth(() -> ('tile-3-2',)  TileCoords(i=3,j=2,orientation=E)), 14: GroundTruth(() -> ('tile-4-2',)  TileCoords(i=4,j=2,orientation=N)), 15: GroundTruth(() -> ('tile-0-1',)  TileCoords(i=0,j=1,orientation=S)), 16: GroundTruth(() -> ('tile-1-1',)  TileCoords(i=1,j=1,orientation=E)), 17: GroundTruth(() -> ('tile-2-1',)  TileCoords(i=2,j=1,orientation=S)), 18: GroundTruth(() -> ('tile-3-1',)  TileCoords(i=3,j=1,orientation=E)), 19: GroundTruth(() -> ('tile-4-1',)  TileCoords(i=4,j=1,orientation=N)), 20: GroundTruth(() -> ('tile-0-0',)  TileCoords(i=0,j=0,orientation=S)), 21: GroundTruth(() -> ('tile-1-0',)  TileCoords(i=1,j=0,orientation=E)), 22: GroundTruth(() -> ('tile-2-0',)  TileCoords(i=2,j=0,orientation=E)), 23: GroundTruth(() -> ('tile-3-0',)  TileCoords(i=3,j=0,orientation=E)), 24: GroundTruth(() -> ('tile-4-0',)  TileCoords(i=4,j=0,orientation=E))})}"
      ]
     },
     "execution_count": 6,
     "metadata": {},
     "output_type": "execute_result"
    }
   ],
   "source": [
    "m.children"
   ]
  },
  {
   "cell_type": "code",
   "execution_count": 7,
   "metadata": {},
   "outputs": [
    {
     "data": {
      "text/plain": [
       "{'tile-0-4': Tile(children={'curve_left': PlacedObject(children={'curve': PlacedObject(children={'lane1': LaneSegment(children={}, spatial_relations={}), 'lane2': LaneSegment(children={}, spatial_relations={})}, spatial_relations={'lane1': GroundTruth(() -> ('lane1',)  SE2Transform([0.0, 0.0],0.0)), 'lane2': GroundTruth(() -> ('lane2',)  SE2Transform([0.0, 0.0],1.5707963267948966))})}, spatial_relations={'curve': GroundTruth(() -> ('curve',)  SE2Transform([0.0, 0.0],4.71238898038469))})}, spatial_relations={1: GroundTruth(() -> ('curve_left',)  SE2Transform([0.0, 0.0],0.0))}),\n",
       " 'tile-1-4': Tile(children={'straight': PlacedObject(children={'lane1': LaneSegment(children={}, spatial_relations={}), 'lane2': LaneSegment(children={}, spatial_relations={})}, spatial_relations={'lane1': GroundTruth(() -> ('lane1',)  SE2Transform([0.0, 0.0],0.0)), 'lane2': GroundTruth(() -> ('lane2',)  SE2Transform([0.0, 0.0],3.141592653589793))})}, spatial_relations={1: GroundTruth(() -> ('straight',)  SE2Transform([0.0, 0.0],0.0))}),\n",
       " 'tile-2-4': Tile(children={'3way_left': PlacedObject(children={'west_go_straight': LaneSegment(children={}, spatial_relations={}), 'west_go_left': LaneSegment(children={}, spatial_relations={}), 'north_go_left': LaneSegment(children={}, spatial_relations={}), 'north_go_right': LaneSegment(children={}, spatial_relations={}), 'east_go_right': LaneSegment(children={}, spatial_relations={}), 'east_go_straight': LaneSegment(children={}, spatial_relations={})}, spatial_relations={'west_go_straight': GroundTruth(() -> ('west_go_straight',)  SE2Transform([0.0, 0.0],0.0)), 'west_go_left': GroundTruth(() -> ('west_go_left',)  SE2Transform([0.0, 0.0],0.0)), 'north_go_left': GroundTruth(() -> ('north_go_left',)  SE2Transform([0.0, 0.0],-1.5707963267948966)), 'north_go_right': GroundTruth(() -> ('north_go_right',)  SE2Transform([0.0, 0.0],-1.5707963267948966)), 'east_go_right': GroundTruth(() -> ('east_go_right',)  SE2Transform([0.0, 0.0],3.141592653589793)), 'east_go_straight': GroundTruth(() -> ('east_go_straight',)  SE2Transform([0.0, 0.0],3.141592653589793))})}, spatial_relations={1: GroundTruth(() -> ('3way_left',)  SE2Transform([0.0, 0.0],0.0))}),\n",
       " 'tile-3-4': Tile(children={'straight': PlacedObject(children={'lane1': LaneSegment(children={}, spatial_relations={}), 'lane2': LaneSegment(children={}, spatial_relations={})}, spatial_relations={'lane1': GroundTruth(() -> ('lane1',)  SE2Transform([0.0, 0.0],0.0)), 'lane2': GroundTruth(() -> ('lane2',)  SE2Transform([0.0, 0.0],3.141592653589793))})}, spatial_relations={1: GroundTruth(() -> ('straight',)  SE2Transform([0.0, 0.0],0.0))}),\n",
       " 'tile-4-4': Tile(children={'curve_left': PlacedObject(children={'curve': PlacedObject(children={'lane1': LaneSegment(children={}, spatial_relations={}), 'lane2': LaneSegment(children={}, spatial_relations={})}, spatial_relations={'lane1': GroundTruth(() -> ('lane1',)  SE2Transform([0.0, 0.0],0.0)), 'lane2': GroundTruth(() -> ('lane2',)  SE2Transform([0.0, 0.0],1.5707963267948966))})}, spatial_relations={'curve': GroundTruth(() -> ('curve',)  SE2Transform([0.0, 0.0],4.71238898038469))})}, spatial_relations={1: GroundTruth(() -> ('curve_left',)  SE2Transform([0.0, 0.0],0.0))}),\n",
       " 'tile-0-3': Tile(children={'straight': PlacedObject(children={'lane1': LaneSegment(children={}, spatial_relations={}), 'lane2': LaneSegment(children={}, spatial_relations={})}, spatial_relations={'lane1': GroundTruth(() -> ('lane1',)  SE2Transform([0.0, 0.0],0.0)), 'lane2': GroundTruth(() -> ('lane2',)  SE2Transform([0.0, 0.0],3.141592653589793))})}, spatial_relations={1: GroundTruth(() -> ('straight',)  SE2Transform([0.0, 0.0],0.0))}),\n",
       " 'tile-1-3': Tile(children={}, spatial_relations={}),\n",
       " 'tile-2-3': Tile(children={'straight': PlacedObject(children={'lane1': LaneSegment(children={}, spatial_relations={}), 'lane2': LaneSegment(children={}, spatial_relations={})}, spatial_relations={'lane1': GroundTruth(() -> ('lane1',)  SE2Transform([0.0, 0.0],0.0)), 'lane2': GroundTruth(() -> ('lane2',)  SE2Transform([0.0, 0.0],3.141592653589793))})}, spatial_relations={1: GroundTruth(() -> ('straight',)  SE2Transform([0.0, 0.0],0.0))}),\n",
       " 'tile-3-3': Tile(children={}, spatial_relations={}),\n",
       " 'tile-4-3': Tile(children={'straight': PlacedObject(children={'lane1': LaneSegment(children={}, spatial_relations={}), 'lane2': LaneSegment(children={}, spatial_relations={})}, spatial_relations={'lane1': GroundTruth(() -> ('lane1',)  SE2Transform([0.0, 0.0],0.0)), 'lane2': GroundTruth(() -> ('lane2',)  SE2Transform([0.0, 0.0],3.141592653589793))})}, spatial_relations={1: GroundTruth(() -> ('straight',)  SE2Transform([0.0, 0.0],0.0))}),\n",
       " 'tile-0-2': Tile(children={'3way_left': PlacedObject(children={'west_go_straight': LaneSegment(children={}, spatial_relations={}), 'west_go_left': LaneSegment(children={}, spatial_relations={}), 'north_go_left': LaneSegment(children={}, spatial_relations={}), 'north_go_right': LaneSegment(children={}, spatial_relations={}), 'east_go_right': LaneSegment(children={}, spatial_relations={}), 'east_go_straight': LaneSegment(children={}, spatial_relations={})}, spatial_relations={'west_go_straight': GroundTruth(() -> ('west_go_straight',)  SE2Transform([0.0, 0.0],0.0)), 'west_go_left': GroundTruth(() -> ('west_go_left',)  SE2Transform([0.0, 0.0],0.0)), 'north_go_left': GroundTruth(() -> ('north_go_left',)  SE2Transform([0.0, 0.0],-1.5707963267948966)), 'north_go_right': GroundTruth(() -> ('north_go_right',)  SE2Transform([0.0, 0.0],-1.5707963267948966)), 'east_go_right': GroundTruth(() -> ('east_go_right',)  SE2Transform([0.0, 0.0],3.141592653589793)), 'east_go_straight': GroundTruth(() -> ('east_go_straight',)  SE2Transform([0.0, 0.0],3.141592653589793))})}, spatial_relations={1: GroundTruth(() -> ('3way_left',)  SE2Transform([0.0, 0.0],0.0))}),\n",
       " 'tile-1-2': Tile(children={'straight': PlacedObject(children={'lane1': LaneSegment(children={}, spatial_relations={}), 'lane2': LaneSegment(children={}, spatial_relations={})}, spatial_relations={'lane1': GroundTruth(() -> ('lane1',)  SE2Transform([0.0, 0.0],0.0)), 'lane2': GroundTruth(() -> ('lane2',)  SE2Transform([0.0, 0.0],3.141592653589793))})}, spatial_relations={1: GroundTruth(() -> ('straight',)  SE2Transform([0.0, 0.0],0.0))}),\n",
       " 'tile-2-2': Tile(children={'4way': PlacedObject(children={'a': PlacedObject(children={'go_right': LaneSegment(children={}, spatial_relations={}), 'go_left': LaneSegment(children={}, spatial_relations={}), 'go_straight': LaneSegment(children={}, spatial_relations={})}, spatial_relations={'go_right': GroundTruth(() -> ('go_right',)  SE2Transform([0.0, 0.0],0.0)), 'go_left': GroundTruth(() -> ('go_left',)  SE2Transform([0.0, 0.0],0.0)), 'go_straight': GroundTruth(() -> ('go_straight',)  SE2Transform([0.0, 0.0],0.0))}), 'b': PlacedObject(children={'go_right': LaneSegment(children={}, spatial_relations={}), 'go_left': LaneSegment(children={}, spatial_relations={}), 'go_straight': LaneSegment(children={}, spatial_relations={})}, spatial_relations={'go_right': GroundTruth(() -> ('go_right',)  SE2Transform([0.0, 0.0],0.0)), 'go_left': GroundTruth(() -> ('go_left',)  SE2Transform([0.0, 0.0],0.0)), 'go_straight': GroundTruth(() -> ('go_straight',)  SE2Transform([0.0, 0.0],0.0))}), 'c': PlacedObject(children={'go_right': LaneSegment(children={}, spatial_relations={}), 'go_left': LaneSegment(children={}, spatial_relations={}), 'go_straight': LaneSegment(children={}, spatial_relations={})}, spatial_relations={'go_right': GroundTruth(() -> ('go_right',)  SE2Transform([0.0, 0.0],0.0)), 'go_left': GroundTruth(() -> ('go_left',)  SE2Transform([0.0, 0.0],0.0)), 'go_straight': GroundTruth(() -> ('go_straight',)  SE2Transform([0.0, 0.0],0.0))}), 'd': PlacedObject(children={'go_right': LaneSegment(children={}, spatial_relations={}), 'go_left': LaneSegment(children={}, spatial_relations={}), 'go_straight': LaneSegment(children={}, spatial_relations={})}, spatial_relations={'go_right': GroundTruth(() -> ('go_right',)  SE2Transform([0.0, 0.0],0.0)), 'go_left': GroundTruth(() -> ('go_left',)  SE2Transform([0.0, 0.0],0.0)), 'go_straight': GroundTruth(() -> ('go_straight',)  SE2Transform([0.0, 0.0],0.0))})}, spatial_relations={'a': GroundTruth(() -> ('a',)  SE2Transform([0.0, 0.0],0.0)), 'b': GroundTruth(() -> ('b',)  SE2Transform([0.0, 0.0],1.5707963267948966)), 'c': GroundTruth(() -> ('c',)  SE2Transform([0.0, 0.0],3.141592653589793)), 'd': GroundTruth(() -> ('d',)  SE2Transform([0.0, 0.0],4.71238898038469))})}, spatial_relations={1: GroundTruth(() -> ('4way',)  SE2Transform([0.0, 0.0],0.0))}),\n",
       " 'tile-3-2': Tile(children={'straight': PlacedObject(children={'lane1': LaneSegment(children={}, spatial_relations={}), 'lane2': LaneSegment(children={}, spatial_relations={})}, spatial_relations={'lane1': GroundTruth(() -> ('lane1',)  SE2Transform([0.0, 0.0],0.0)), 'lane2': GroundTruth(() -> ('lane2',)  SE2Transform([0.0, 0.0],3.141592653589793))})}, spatial_relations={1: GroundTruth(() -> ('straight',)  SE2Transform([0.0, 0.0],0.0))}),\n",
       " 'tile-4-2': Tile(children={'3way_left': PlacedObject(children={'west_go_straight': LaneSegment(children={}, spatial_relations={}), 'west_go_left': LaneSegment(children={}, spatial_relations={}), 'north_go_left': LaneSegment(children={}, spatial_relations={}), 'north_go_right': LaneSegment(children={}, spatial_relations={}), 'east_go_right': LaneSegment(children={}, spatial_relations={}), 'east_go_straight': LaneSegment(children={}, spatial_relations={})}, spatial_relations={'west_go_straight': GroundTruth(() -> ('west_go_straight',)  SE2Transform([0.0, 0.0],0.0)), 'west_go_left': GroundTruth(() -> ('west_go_left',)  SE2Transform([0.0, 0.0],0.0)), 'north_go_left': GroundTruth(() -> ('north_go_left',)  SE2Transform([0.0, 0.0],-1.5707963267948966)), 'north_go_right': GroundTruth(() -> ('north_go_right',)  SE2Transform([0.0, 0.0],-1.5707963267948966)), 'east_go_right': GroundTruth(() -> ('east_go_right',)  SE2Transform([0.0, 0.0],3.141592653589793)), 'east_go_straight': GroundTruth(() -> ('east_go_straight',)  SE2Transform([0.0, 0.0],3.141592653589793))})}, spatial_relations={1: GroundTruth(() -> ('3way_left',)  SE2Transform([0.0, 0.0],0.0))}),\n",
       " 'tile-0-1': Tile(children={'straight': PlacedObject(children={'lane1': LaneSegment(children={}, spatial_relations={}), 'lane2': LaneSegment(children={}, spatial_relations={})}, spatial_relations={'lane1': GroundTruth(() -> ('lane1',)  SE2Transform([0.0, 0.0],0.0)), 'lane2': GroundTruth(() -> ('lane2',)  SE2Transform([0.0, 0.0],3.141592653589793))})}, spatial_relations={1: GroundTruth(() -> ('straight',)  SE2Transform([0.0, 0.0],0.0))}),\n",
       " 'tile-1-1': Tile(children={}, spatial_relations={}),\n",
       " 'tile-2-1': Tile(children={'straight': PlacedObject(children={'lane1': LaneSegment(children={}, spatial_relations={}), 'lane2': LaneSegment(children={}, spatial_relations={})}, spatial_relations={'lane1': GroundTruth(() -> ('lane1',)  SE2Transform([0.0, 0.0],0.0)), 'lane2': GroundTruth(() -> ('lane2',)  SE2Transform([0.0, 0.0],3.141592653589793))})}, spatial_relations={1: GroundTruth(() -> ('straight',)  SE2Transform([0.0, 0.0],0.0))}),\n",
       " 'tile-3-1': Tile(children={}, spatial_relations={}),\n",
       " 'tile-4-1': Tile(children={'straight': PlacedObject(children={'lane1': LaneSegment(children={}, spatial_relations={}), 'lane2': LaneSegment(children={}, spatial_relations={})}, spatial_relations={'lane1': GroundTruth(() -> ('lane1',)  SE2Transform([0.0, 0.0],0.0)), 'lane2': GroundTruth(() -> ('lane2',)  SE2Transform([0.0, 0.0],3.141592653589793))})}, spatial_relations={1: GroundTruth(() -> ('straight',)  SE2Transform([0.0, 0.0],0.0))}),\n",
       " 'tile-0-0': Tile(children={'curve_left': PlacedObject(children={'curve': PlacedObject(children={'lane1': LaneSegment(children={}, spatial_relations={}), 'lane2': LaneSegment(children={}, spatial_relations={})}, spatial_relations={'lane1': GroundTruth(() -> ('lane1',)  SE2Transform([0.0, 0.0],0.0)), 'lane2': GroundTruth(() -> ('lane2',)  SE2Transform([0.0, 0.0],1.5707963267948966))})}, spatial_relations={'curve': GroundTruth(() -> ('curve',)  SE2Transform([0.0, 0.0],4.71238898038469))})}, spatial_relations={1: GroundTruth(() -> ('curve_left',)  SE2Transform([0.0, 0.0],0.0))}),\n",
       " 'tile-1-0': Tile(children={'straight': PlacedObject(children={'lane1': LaneSegment(children={}, spatial_relations={}), 'lane2': LaneSegment(children={}, spatial_relations={})}, spatial_relations={'lane1': GroundTruth(() -> ('lane1',)  SE2Transform([0.0, 0.0],0.0)), 'lane2': GroundTruth(() -> ('lane2',)  SE2Transform([0.0, 0.0],3.141592653589793))})}, spatial_relations={1: GroundTruth(() -> ('straight',)  SE2Transform([0.0, 0.0],0.0))}),\n",
       " 'tile-2-0': Tile(children={'3way_left': PlacedObject(children={'west_go_straight': LaneSegment(children={}, spatial_relations={}), 'west_go_left': LaneSegment(children={}, spatial_relations={}), 'north_go_left': LaneSegment(children={}, spatial_relations={}), 'north_go_right': LaneSegment(children={}, spatial_relations={}), 'east_go_right': LaneSegment(children={}, spatial_relations={}), 'east_go_straight': LaneSegment(children={}, spatial_relations={})}, spatial_relations={'west_go_straight': GroundTruth(() -> ('west_go_straight',)  SE2Transform([0.0, 0.0],0.0)), 'west_go_left': GroundTruth(() -> ('west_go_left',)  SE2Transform([0.0, 0.0],0.0)), 'north_go_left': GroundTruth(() -> ('north_go_left',)  SE2Transform([0.0, 0.0],-1.5707963267948966)), 'north_go_right': GroundTruth(() -> ('north_go_right',)  SE2Transform([0.0, 0.0],-1.5707963267948966)), 'east_go_right': GroundTruth(() -> ('east_go_right',)  SE2Transform([0.0, 0.0],3.141592653589793)), 'east_go_straight': GroundTruth(() -> ('east_go_straight',)  SE2Transform([0.0, 0.0],3.141592653589793))})}, spatial_relations={1: GroundTruth(() -> ('3way_left',)  SE2Transform([0.0, 0.0],0.0))}),\n",
       " 'tile-3-0': Tile(children={'straight': PlacedObject(children={'lane1': LaneSegment(children={}, spatial_relations={}), 'lane2': LaneSegment(children={}, spatial_relations={})}, spatial_relations={'lane1': GroundTruth(() -> ('lane1',)  SE2Transform([0.0, 0.0],0.0)), 'lane2': GroundTruth(() -> ('lane2',)  SE2Transform([0.0, 0.0],3.141592653589793))})}, spatial_relations={1: GroundTruth(() -> ('straight',)  SE2Transform([0.0, 0.0],0.0))}),\n",
       " 'tile-4-0': Tile(children={'curve_left': PlacedObject(children={'curve': PlacedObject(children={'lane1': LaneSegment(children={}, spatial_relations={}), 'lane2': LaneSegment(children={}, spatial_relations={})}, spatial_relations={'lane1': GroundTruth(() -> ('lane1',)  SE2Transform([0.0, 0.0],0.0)), 'lane2': GroundTruth(() -> ('lane2',)  SE2Transform([0.0, 0.0],1.5707963267948966))})}, spatial_relations={'curve': GroundTruth(() -> ('curve',)  SE2Transform([0.0, 0.0],4.71238898038469))})}, spatial_relations={1: GroundTruth(() -> ('curve_left',)  SE2Transform([0.0, 0.0],0.0))})}"
      ]
     },
     "execution_count": 7,
     "metadata": {},
     "output_type": "execute_result"
    }
   ],
   "source": [
    "m.children['tilemap'].children"
   ]
  },
  {
   "cell_type": "markdown",
   "metadata": {},
   "source": [
    "You can use the notation below to get a child in a compact way:"
   ]
  },
  {
   "cell_type": "code",
   "execution_count": 8,
   "metadata": {},
   "outputs": [],
   "source": [
    "lane_segment = m['tilemap/tile-0-1/straight/lane1']"
   ]
  },
  {
   "cell_type": "markdown",
   "metadata": {},
   "source": [
    "In this case we can see how a Tile has a child `curve_left` with a child `curve` with two children `lane1` and `lane2`:"
   ]
  },
  {
   "cell_type": "code",
   "execution_count": 9,
   "metadata": {},
   "outputs": [
    {
     "name": "stdout",
     "output_type": "stream",
     "text": [
      "Tile\n",
      "\n",
      "└ curve_left ┐ PlacedObject\n",
      "             │ \n",
      "             │ └ curve ┐ PlacedObject\n",
      "             │         │\n",
      "             │         │ ├ lane1 ┐ LaneSegment\n",
      "             │         │ │       └──────────────\n",
      "             │         │ └ lane2 ┐ LaneSegment\n",
      "             │         │         └──────────────\n",
      "             │         └──────────────────────────\n",
      "             └──────────────────────────────────────\n"
     ]
    }
   ],
   "source": [
    "tile = m.children['tilemap'].children['tile-0-0']\n",
    "print(dw.get_object_tree(tile, attributes=False, levels=10))"
   ]
  },
  {
   "cell_type": "code",
   "execution_count": 10,
   "metadata": {},
   "outputs": [
    {
     "name": "stdout",
     "output_type": "stream",
     "text": [
      "Tile\n",
      "\n",
      " kind: curve_left\n",
      " drivable: true\n",
      " \n",
      "\n",
      "└ curve_left ┐ PlacedObject\n",
      "             │ \n",
      "             │ └ curve ┐ PlacedObject\n",
      "             │         │\n",
      "             │         │ ├ lane1 ┐ LaneSegment\n",
      "             │         │ │       │\n",
      "             │         │ │       │  width: 0.376\n",
      "             │         │ │       │  control_points:\n",
      "             │         │ │       │  -   ~SE2Transform:\n",
      "             │         │ │       │          p:\n",
      "             │         │ │       │          - -0.5\n",
      "             │         │ │       │          - -0.22\n",
      "             │         │ │       │  -   ~SE2Transform:\n",
      "             │         │ │       │          theta_deg: -45\n",
      "             │         │ │       │          p:\n",
      "             │         │ │       │          - -0.3\n",
      "             │         │ │       │          - -0.3\n",
      "             │         │ │       │  -   ~SE2Transform:\n",
      "             │         │ │       │          theta_deg: -90\n",
      "             │         │ │       │          p:\n",
      "             │         │ │       │          - -0.22\n",
      "             │         │ │       │          - -0.5\n",
      "             │         │ │       │\n",
      "             │         │ │       └──────────────────────────\n",
      "             │         │ └ lane2 ┐ LaneSegment\n",
      "             │         │         │\n",
      "             │         │         │  width: 0.376\n",
      "             │         │         │  control_points:\n",
      "             │         │         │  -   ~SE2Transform:\n",
      "             │         │         │          p:\n",
      "             │         │         │          - -0.5\n",
      "             │         │         │          - -0.22\n",
      "             │         │         │  -   ~SE2Transform:\n",
      "             │         │         │          theta_deg: 45\n",
      "             │         │         │  -   ~SE2Transform:\n",
      "             │         │         │          theta_deg: 90\n",
      "             │         │         │          p:\n",
      "             │         │         │          - 0.22\n",
      "             │         │         │          - 0.5\n",
      "             │         │         │\n",
      "             │         │         └─────────────────────────\n",
      "             │         └──────────────────────────────────────\n",
      "             └──────────────────────────────────────────────────\n"
     ]
    }
   ],
   "source": [
    "print(dw.get_object_tree(tile, attributes=True, levels=10))"
   ]
  },
  {
   "cell_type": "code",
   "execution_count": 11,
   "metadata": {},
   "outputs": [
    {
     "data": {
      "text/html": [
       "\n",
       "        <iframe\n",
       "            width=\"100%\"\n",
       "            height=\"600\"\n",
       "            src=\"out/ipython_draw_html/4781748120/drawing.html\"\n",
       "            frameborder=\"0\"\n",
       "            allowfullscreen\n",
       "        ></iframe>\n",
       "        "
      ],
      "text/plain": [
       "<IPython.lib.display.IFrame at 0x11d07d400>"
      ]
     },
     "metadata": {},
     "output_type": "display_data"
    },
    {
     "data": {
      "text/html": [
       "\n",
       "        <iframe\n",
       "            width=\"100%\"\n",
       "            height=\"600\"\n",
       "            src=\"out/ipython_draw_html/4781747840/drawing.html\"\n",
       "            frameborder=\"0\"\n",
       "            allowfullscreen\n",
       "        ></iframe>\n",
       "        "
      ],
      "text/plain": [
       "<IPython.lib.display.IFrame at 0x11fddd240>"
      ]
     },
     "metadata": {},
     "output_type": "display_data"
    }
   ],
   "source": [
    "lane1 = tile['curve_left/curve/lane1']\n",
    "lane2 = tile['curve_left/curve/lane2']\n",
    "ipython_draw_html(lane1);\n",
    "ipython_draw_html(lane2);"
   ]
  },
  {
   "cell_type": "code",
   "execution_count": 12,
   "metadata": {},
   "outputs": [
    {
     "name": "stdout",
     "output_type": "stream",
     "text": [
      "PlacedObject\n",
      "\n",
      "├ lane1 ┐ LaneSegment\n",
      "│       │ \n",
      "│       │  width: 0.376\n",
      "│       │  control_points:\n",
      "│       │  -   ~SE2Transform:\n",
      "│       │          p:\n",
      "│       │          - -0.5\n",
      "│       │          - -0.22\n",
      "│       │  -   ~SE2Transform:\n",
      "│       │          theta_deg: -45\n",
      "│       │          p:\n",
      "│       │          - -0.3\n",
      "│       │          - -0.3\n",
      "│       │  -   ~SE2Transform:\n",
      "│       │          theta_deg: -90\n",
      "│       │          p:\n",
      "│       │          - -0.22\n",
      "│       │          - -0.5\n",
      "│       │ \n",
      "│       └──────────────────────────\n",
      "└ lane2 ┐ LaneSegment\n",
      "        │ \n",
      "        │  width: 0.376\n",
      "        │  control_points:\n",
      "        │  -   ~SE2Transform:\n",
      "        │          p:\n",
      "        │          - -0.5\n",
      "        │          - -0.22\n",
      "        │  -   ~SE2Transform:\n",
      "        │          theta_deg: 45\n",
      "        │  -   ~SE2Transform:\n",
      "        │          theta_deg: 90\n",
      "        │          p:\n",
      "        │          - 0.22\n",
      "        │          - 0.5\n",
      "        │ \n",
      "        └─────────────────────────\n",
      "\n",
      "- from \".\" to \"lane1\"  SE2Transform([0.0, 0.0],0.0) \n",
      "- from \".\" to \"lane2\"  SE2Transform([0.0, 0.0],1.5707963267948966) \n"
     ]
    }
   ],
   "source": [
    "curve = tile['curve_left/curve']\n",
    "print(dw.get_object_tree(curve, attributes=True, spatial_relations=True, levels=10))"
   ]
  },
  {
   "cell_type": "code",
   "execution_count": 13,
   "metadata": {},
   "outputs": [
    {
     "data": {
      "text/html": [
       "\n",
       "        <iframe\n",
       "            width=\"100%\"\n",
       "            height=\"600\"\n",
       "            src=\"out/ipython_draw_html/4781747728/drawing.html\"\n",
       "            frameborder=\"0\"\n",
       "            allowfullscreen\n",
       "        ></iframe>\n",
       "        "
      ],
      "text/plain": [
       "<IPython.lib.display.IFrame at 0x11d04e860>"
      ]
     },
     "metadata": {},
     "output_type": "display_data"
    }
   ],
   "source": [
    "ipython_draw_html(curve);"
   ]
  },
  {
   "cell_type": "code",
   "execution_count": 14,
   "metadata": {},
   "outputs": [
    {
     "data": {
      "text/html": [
       "\n",
       "        <iframe\n",
       "            width=\"100%\"\n",
       "            height=\"600\"\n",
       "            src=\"out/ipython_draw_html/4783492176/drawing.html\"\n",
       "            frameborder=\"0\"\n",
       "            allowfullscreen\n",
       "        ></iframe>\n",
       "        "
      ],
      "text/plain": [
       "<IPython.lib.display.IFrame at 0x11fddd240>"
      ]
     },
     "metadata": {},
     "output_type": "display_data"
    }
   ],
   "source": [
    "lane = tile['curve_left/curve/lane2']._copy()\n",
    "\n",
    "ipython_draw_html(lane);"
   ]
  },
  {
   "cell_type": "code",
   "execution_count": 15,
   "metadata": {},
   "outputs": [
    {
     "data": {
      "text/plain": [
       "0.376"
      ]
     },
     "execution_count": 15,
     "metadata": {},
     "output_type": "execute_result"
    }
   ],
   "source": [
    "lane.width"
   ]
  },
  {
   "cell_type": "code",
   "execution_count": 16,
   "metadata": {},
   "outputs": [
    {
     "data": {
      "text/plain": [
       "[SE2Transform([-0.5, -0.22],0.0),\n",
       " SE2Transform([0.0, 0.0],0.7853981633974483),\n",
       " SE2Transform([0.22, 0.5],1.5707963267948966)]"
      ]
     },
     "execution_count": 16,
     "metadata": {},
     "output_type": "execute_result"
    }
   ],
   "source": [
    "lane.control_points"
   ]
  },
  {
   "cell_type": "markdown",
   "metadata": {},
   "source": [
    "## Parametrization of lanes\n",
    "\n",
    "The lane is parametrized with a parameter `beta` that interpolates among the control points.\n",
    "\n",
    "Here we create an animation of the center point for different `beta`s."
   ]
  },
  {
   "cell_type": "code",
   "execution_count": 17,
   "metadata": {},
   "outputs": [
    {
     "name": "stdout",
     "output_type": "stream",
     "text": [
      "[-1.0, -0.736842105263158, -0.4736842105263158, -0.21052631578947367, 0.05263157894736836, 0.3157894736842104, 0.5789473684210527, 0.8421052631578947, 1.1052631578947367, 1.3684210526315788, 1.6315789473684208, 1.8947368421052628, 2.1578947368421053, 2.4210526315789473, 2.6842105263157894, 2.9473684210526314, 3.2105263157894735, 3.473684210526316, 3.7368421052631575, 4.0]\n"
     ]
    }
   ],
   "source": [
    "import numpy as np\n",
    "npoints = len(lane.control_points)\n",
    "betas = list(np.linspace(-1, npoints + 1, 20))\n",
    "print(betas)"
   ]
  },
  {
   "cell_type": "code",
   "execution_count": 18,
   "metadata": {},
   "outputs": [
    {
     "data": {
      "text/html": [
       "\n",
       "        <iframe\n",
       "            width=\"100%\"\n",
       "            height=\"600\"\n",
       "            src=\"out/ipython_draw_html/4783492176/drawing.html\"\n",
       "            frameborder=\"0\"\n",
       "            allowfullscreen\n",
       "        ></iframe>\n",
       "        "
      ],
      "text/plain": [
       "<IPython.lib.display.IFrame at 0x11d1e4780>"
      ]
     },
     "metadata": {},
     "output_type": "display_data"
    }
   ],
   "source": [
    "transforms = []\n",
    "for beta in betas:\n",
    "    # call the function `center_point` to get the center point (in SE(2))\n",
    "    p = lane.center_point(beta)\n",
    "    transform = dw.SE2Transform.from_SE2(p)\n",
    "    transforms.append(transform)\n",
    "\n",
    "ground_truth = dw.SampledSequence[dw.SE2Transform](betas, transforms)\n",
    "lane.set_object('traveling-point', dw.PlacedObject(), ground_truth=ground_truth)\n",
    "ipython_draw_html(lane);"
   ]
  },
  {
   "cell_type": "markdown",
   "metadata": {},
   "source": [
    "Scrub the timeline to see the animation."
   ]
  },
  {
   "cell_type": "code",
   "execution_count": 19,
   "metadata": {},
   "outputs": [],
   "source": [
    "import geometry as geo\n",
    "q = geo.SE2_from_translation_angle([+0.05, -0.05], np.deg2rad(20))"
   ]
  },
  {
   "cell_type": "code",
   "execution_count": 20,
   "metadata": {},
   "outputs": [],
   "source": [
    "lane.set_object('db18-4', dw.DB18(), ground_truth=dw.SE2Transform.from_SE2(q))\n",
    "lane_pose = lane.lane_pose_from_SE2(q)\n",
    "\n",
    "lane.set_object('marker3', dw.PlacedObject(), ground_truth=lane_pose.center_point)"
   ]
  },
  {
   "cell_type": "code",
   "execution_count": 21,
   "metadata": {},
   "outputs": [
    {
     "data": {
      "text/plain": [
       "{'traveling-point': PlacedObject(children={}, spatial_relations={}),\n",
       " 'db18-4': DB18(children={}, spatial_relations={}),\n",
       " 'marker3': PlacedObject(children={}, spatial_relations={})}"
      ]
     },
     "execution_count": 21,
     "metadata": {},
     "output_type": "execute_result"
    }
   ],
   "source": [
    "lane.children"
   ]
  },
  {
   "cell_type": "code",
   "execution_count": 22,
   "metadata": {},
   "outputs": [
    {
     "data": {
      "text/plain": [
       "{0: GroundTruth(() -> ('traveling-point',)  SampledSequence[SE2Transform](timestamps=[-1.0, -0.736842105263158, -0.4736842105263158, -0.21052631578947367, 0.05263157894736836, 0.3157894736842104, 0.5789473684210527, 0.8421052631578947, 1.1052631578947367, 1.3684210526315788, 1.6315789473684208, 1.8947368421052628, 2.1578947368421053, 2.4210526315789473, 2.6842105263157894, 2.9473684210526314, 3.2105263157894735, 3.473684210526316, 3.7368421052631575, 4.0], values=[SE2Transform([-0.6, -0.2199999988079071],0.0), SE2Transform([-0.5736842105263158, -0.2199999988079071],0.0), SE2Transform([-0.5473684210526316, -0.2199999988079071],0.0), SE2Transform([-0.5210526315789473, -0.2199999988079071],0.0), SE2Transform([-0.470525719458915, -0.21874729127170855],0.04133674659227066), SE2Transform([-0.32530923670416145, -0.19434484508076877],0.2480204795536241), SE2Transform([-0.18819117546714098, -0.1406611089369041],0.4547042125149777), SE2Transform([-0.0650081458829751, -0.059981201486350694],0.6613879454763312), SE2Transform([0.04088916109922749, 0.042518225576477324],0.8680716565819897), SE2Transform([0.12659068460015985, 0.16226192997345126],1.074755389543343), SE2Transform([0.18589496327194147, 0.29704437840168835],1.2814391225046966), SE2Transform([0.21627763270313685, 0.44112837914891023],1.48812285546605), SE2Transform([0.2199999988079071, 0.5157894736842106],1.5707963267948966), SE2Transform([0.2199999988079071, 0.5421052631578948],1.5707963267948966), SE2Transform([0.21999999880790708, 0.5684210526315789],1.5707963267948966), SE2Transform([0.21999999880790708, 0.5947368421052631],1.5707963267948966), SE2Transform([0.21999999880790708, 0.6210526315789473],1.5707963267948966), SE2Transform([0.21999999880790708, 0.6473684210526316],1.5707963267948966), SE2Transform([0.21999999880790708, 0.6736842105263157],1.5707963267948966), SE2Transform([0.21999999880790705, 0.7],1.5707963267948966)])),\n",
       " 1: GroundTruth(() -> ('db18-4',)  SE2Transform([0.05, -0.05],0.3490658503988659)),\n",
       " 2: GroundTruth(() -> ('marker3',)  SE2Transform([-1.528914340132026e-07, -1.5970960803857182e-07],0.7853978754762929))}"
      ]
     },
     "execution_count": 22,
     "metadata": {},
     "output_type": "execute_result"
    }
   ],
   "source": [
    "lane.spatial_relations"
   ]
  },
  {
   "cell_type": "code",
   "execution_count": 23,
   "metadata": {},
   "outputs": [
    {
     "data": {
      "text/html": [
       "\n",
       "        <iframe\n",
       "            width=\"100%\"\n",
       "            height=\"600\"\n",
       "            src=\"out/ipython_draw_html/4783492176/drawing.html\"\n",
       "            frameborder=\"0\"\n",
       "            allowfullscreen\n",
       "        ></iframe>\n",
       "        "
      ],
      "text/plain": [
       "<IPython.lib.display.IFrame at 0x1202b4c18>"
      ]
     },
     "metadata": {},
     "output_type": "display_data"
    }
   ],
   "source": [
    "ipython_draw_html(lane);"
   ]
  },
  {
   "cell_type": "code",
   "execution_count": 24,
   "metadata": {},
   "outputs": [],
   "source": [
    "assert lane_pose.correct_direction"
   ]
  },
  {
   "cell_type": "code",
   "execution_count": 25,
   "metadata": {},
   "outputs": [],
   "source": [
    "assert lane_pose.inside"
   ]
  },
  {
   "cell_type": "code",
   "execution_count": 26,
   "metadata": {},
   "outputs": [],
   "source": [
    "assert lane"
   ]
  }
 ],
 "metadata": {
  "kernelspec": {
   "display_name": "Python 3",
   "language": "python",
   "name": "python3"
  },
  "language_info": {
   "codemirror_mode": {
    "name": "ipython",
    "version": 3
   },
   "file_extension": ".py",
   "mimetype": "text/x-python",
   "name": "python",
   "nbconvert_exporter": "python",
   "pygments_lexer": "ipython3",
   "version": "3.7.2"
  }
 },
 "nbformat": 4,
 "nbformat_minor": 2
}
