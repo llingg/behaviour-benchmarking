{
 "cells": [
  {
   "cell_type": "markdown",
   "metadata": {},
   "source": [
    "# Benchmark setup and evaluation\n",
    "If the script doesn't display properly (e.g. curly braces in the markdown) **trust the notebook** in the top right corner and rerender the markdown by running them again.\n"
   ]
  },
  {
   "cell_type": "markdown",
   "metadata": {},
   "source": [
    "## Table of contents\n",
    "1. [Introduction](#section_Introduction)\n",
    "2. [Config](#section_Config)\n",
    "3. [Setup and Preliminaries](#section_Setup)\n",
    "    1. [Ducklietown Shell](#subsection_dts)\n",
    "    2. [Ducklietown World](#subsection_dw)\n",
    "    3. [Duckliebot](#subsection_db)\n",
    "4. [Experiment](#section_Experiment)\n",
    "5. [Data preparation](#section_Data_prep)\n",
    "6. [Troubleshooting](#section_Troubleshooting)"
   ]
  },
  {
   "cell_type": "markdown",
   "metadata": {},
   "source": [
    "<a id=\"section_Introduction\"></a>\n",
    "## Introduction"
   ]
  },
  {
   "cell_type": "markdown",
   "metadata": {},
   "source": [
    "<a id=\"section_Config\"></a>\n",
    "## Config\n",
    "Please execute the followin code as it contains the configuration of some of the markdown below"
   ]
  },
  {
   "cell_type": "code",
   "execution_count": 1,
   "metadata": {},
   "outputs": [],
   "source": [
    "image_config = {\n",
    "    'daffy': {\n",
    "        'dt-core': 'duckietown/dt-core:daffy@sha256:4c7633c2041f5b7846be2346e0892c9f50987d2fd98d3479ec1a4cf378f52ee6',\n",
    "        'dt-duckiebot-interface': 'duckietown/dt-duckiebot-interface:daffy@sha256:94a9defa553d1e238566a621e084c4b368e6a9b62053b02f0eef1d5685f9ea73',\n",
    "        'dt-car-interface': 'duckietown/dt-car-interface:daffy@sha256:e3db984157bf3a2b2d4ab7237536c17b37333711244a3206517daa187c143016',\n",
    "        'dt-core-amd64': 'duckietown/dt-core:daffy-amd64@sha256:d72e8a8c3191c146ecc2a812bdd036aaf15076e6c1cb9467304e0e54f9a39a10',\n",
    "        'acquisition-bridge':'duckietown/acquisition-bridge:daffy-arm32v7@sha256:adda9218aa73ba42774aec74e6ec30fcb4b4e0c5545eaa9927c16d4426425f06'\n",
    "    }\n",
    "}\n"
   ]
  },
  {
   "cell_type": "markdown",
   "metadata": {},
   "source": [
    "Please enter the selected version of the benchmark and the ssid and password of the networks you want to use"
   ]
  },
  {
   "cell_type": "code",
   "execution_count": 2,
   "metadata": {},
   "outputs": [],
   "source": [
    "benchmark_version = 'daffy'\n",
    "dt_commands_dir = '/home/lujobi/Documents/'\n",
    "github_username = 'lujobi'\n",
    "pc_ip = '192.168.1.53'\n",
    "pc_hostname = 'big-mama'\n",
    "\n",
    "\n",
    "#please do not modify\n",
    "if (benchmark_version not in image_config.keys()):\n",
    "    print (('incorrect input, please set \\'benchmark_version\\' to {}').format(image_config.keys()))\n",
    "else:\n",
    "    img_core = image_config[benchmark_version]['dt-core']\n",
    "    img_db_if = image_config[benchmark_version]['dt-duckiebot-interface']\n",
    "    img_car_if = image_config[benchmark_version]['dt-car-interface']\n",
    "    img_core_ad64 = image_config[benchmark_version]['dt-core-amd64']\n",
    "    img_acq_bridge = image_config[benchmark_version]['acquisition-bridge']\n",
    "\n"
   ]
  },
  {
   "cell_type": "markdown",
   "metadata": {},
   "source": [
    "<a id=\"section_Setup\"></a>\n",
    "## Setup and Preliminaries"
   ]
  },
  {
   "cell_type": "markdown",
   "metadata": {
    "variables": {
     "benchmark_version": "daffy",
     "dt_commands_dir": "/home/lujobi/Documents/"
    }
   },
   "source": [
    "<a id=\"subsection_dts\"></a>\n",
    "### Duckietown shell\n",
    "If not installed yet install the newest version of dts (duckietown shell) via the instructions provided by. https://github.com/duckietown/duckietown-shell\n",
    "Currently we are using a custom stack of the duckietown shell commands, which fix all software to fixed versions to ensure comparability among different hardware configurations. As they are not in the original repo (yet) they have to be cloned from this fork https://github.com/lujobi/duckietown-shell-commands. We are interested in the benchmarking branch. \n",
    "\n",
    "#### Installing\n",
    "Use the following commands in a directory of your choice, recommended `/home/user/Documents/benchmarking`.\n",
    "``` bash\n",
    "$ cd {{dt_commands_dir}}\n",
    "$ git clone git@github.com:lujobi/duckietown-shell-commands.git\n",
    "$ git checkout benchmark\n",
    "```\n",
    "Export the path to the local version of duckietown shell commands\n",
    "``` bash\n",
    "$ export DTSHELL_COMMANDS={{dt_commands_dir}}duckietown-shell-commands/\n",
    "```\n",
    "Set dts to any version:\n",
    "``` bash\n",
    "$ dts --set-version {{benchmark_version}}\n",
    "```\n",
    "In order to test whether the installation was successful enter ```$ dts```. The output should look something like:\n",
    "``` bash\n",
    "INFO:dts:Commands version: daffy\n",
    "INFO:dts:Using path '{{dt_commands_dir}}duckietown-shell-commands/' as prescribed by env variable DTSHELL_COMMANDS.\n",
    "INFO:dts:duckietown-shell-commands 5.0.2\n",
    "INFO:duckietown-challenges:duckietown-challenges 5.1.5\n",
    "INFO:zj:zuper-ipce 5.3.0\n",
    "```\n",
    "Enable the benchmark command via:\n",
    "``` bash\n",
    "$ dts install benchmark\n",
    "```\n",
    "Add your dts token via:\n",
    "``` bash\n",
    "$ dts tok set\n",
    "```\n",
    "#### Explanation benchmark commands\n",
    "The branch benchmarking fixes all software versions to a specific one in order to ensure reproducibility. Additinally the command group benchmark is added. This is used to specify the version of benchmarking software."
   ]
  },
  {
   "cell_type": "markdown",
   "metadata": {},
   "source": [
    "<a id=\"subsection_dw\"></a>\n",
    "### Duckietown world\n",
    "#### Tiles\n",
    "For the first benchmark we need the “normal” 3x3 circle circuit. Please ensure that the tiles are cleaned and assembled to specifications (https://docs.duckietown.org/DT18/opmanual_duckietown/out/dt_ops_appearance_specifications.html). \n",
    "Especially make sure that the road has the correct width.\n",
    "\n",
    "#### Lighting\n",
    "In order to ensure reproducibility use a well illuminated room. Ensure that the light comes down from top, such that the bots are not dazzled\n",
    "TODO\n"
   ]
  },
  {
   "cell_type": "markdown",
   "metadata": {},
   "source": [
    "#### Watchtowers\n",
    "For the 3X3 circuit use 4 watchtowers in the middle of the circuit. One per corner. Ensure a proper connection and that the watchtowers are close to the corners. (TODO) "
   ]
  },
  {
   "cell_type": "code",
   "execution_count": 3,
   "metadata": {},
   "outputs": [],
   "source": [
    "watchtower_name = 'watchtower01'"
   ]
  },
  {
   "cell_type": "markdown",
   "metadata": {
    "variables": {
     "watchtower_name": "watchtower01"
    }
   },
   "source": [
    "##### Setup\n",
    "As of now we use the standard procedure of setting up a loclization system and setting up the the watchtowers. **Thus make sure to use a new Terminal where the ```$ export DTSHELL_COMMANDS ``` has not been executed.** Detailed instructions can be found at https://docs.duckietown.org/daffy/opmanual_autolab/out/watchtower_initialization.html. All in all use the following command to initialize the sd card:\n",
    "``` bash\n",
    "$ dts init_sd_card --hostname {{watchtower_name}} --linux-username mom --linux-password MomWatches --country COUNTRY --type watchtower --experimental\n",
    "```\n",
    "\n",
    "##### Calibration\n",
    "Use the same calibration procedure as for a standard duckiebot. **But only the intrinsic part.** Instructions https://docs.duckietown.org/daffy/opmanual_duckiebot/out/camera_calib.html. \n",
    "\n",
    "Starting the camera demo:\n",
    "``` bash\n",
    "$ dts duckiebot demo --demo_name camera --duckiebot_name {{watchtower_name}} --package_name pi_camera --image \n",
    "duckietown/dt-core:daffy\n",
    "```\n",
    "Start the calibration:\n",
    "``` bash\n",
    "$ dts duckiebot calibrate_intrinsics {{watchtower_name}}\n",
    "```\n",
    "Start collecting data for the calibration. Press on the calibrate button as soon as all bars are green. Click Commit and check under `{{watchtower_name}}.local:8082/data/config/calibrations/camera_intrinsic/` that a file named `{{watchtower_name}}.yaml` exists."
   ]
  },
  {
   "cell_type": "markdown",
   "metadata": {},
   "source": [
    "#### World\n",
    "Use the instructions found at https://docs.duckietown.org/daffy/opmanual_autolab/out/autolab_map_making.html to set up the jupyter notebook in order to generate a new map. Note you will have to create your own fork of the duckietown-world. Make sure to leave the repo name as is!"
   ]
  },
  {
   "cell_type": "markdown",
   "metadata": {},
   "source": [
    "##### Map\n",
    "The yaml for a loop with floor around the map and in the center is the following: "
   ]
  },
  {
   "cell_type": "code",
   "execution_count": 4,
   "metadata": {},
   "outputs": [],
   "source": [
    "map_name = 'Luzi_loop'"
   ]
  },
  {
   "cell_type": "markdown",
   "metadata": {},
   "source": [
    "```yaml\n",
    "tile_size: 0.585\n",
    "tiles:\n",
    "- - floor\n",
    "  - floor\n",
    "  - floor\n",
    "  - floor\n",
    "  - floor\n",
    "- - floor\n",
    "  - curve_left/W\n",
    "  - straight/W\n",
    "  - curve_left/N\n",
    "  - floor\n",
    "- - floor\n",
    "  - straight/S\n",
    "  - floor\n",
    "  - straight/N\n",
    "  - floor\n",
    "- - floor\n",
    "  - curve_left/S\n",
    "  - straight/E\n",
    "  - curve_left/E\n",
    "  - floor\n",
    "- - floor\n",
    "  - floor\n",
    "  - floor\n",
    "  - floor\n",
    "  - floor\n",
    "```\n",
    "Verify the that the map is displayed in the notebook under the name you gave to the file."
   ]
  },
  {
   "cell_type": "markdown",
   "metadata": {},
   "source": [
    "##### Apriltags\n",
    "We use 4 ground Apriltags placed outside of each corner, moved  in 10 cm from both borders. Use https://docs.duckietown.org/daffy/opmanual_autolab/out/localization_apriltags_specs.html in order to fill the map with april tags. As such use the command. \n",
    "``` bash\n",
    "$ python3 src/apriltag_measure/measure_ground_apriltags.py MAP_NAME\n",
    "```\n",
    "Ensure that you enter your measurements **in Meters**. If you go back to the notebook you should see your map now rendered correctly with Apriltags.\n"
   ]
  },
  {
   "cell_type": "code",
   "execution_count": 5,
   "metadata": {},
   "outputs": [],
   "source": [
    "watchtower_name = 'watchtower04'"
   ]
  },
  {
   "cell_type": "markdown",
   "metadata": {
    "variables": {
     "pc_ip": "192.168.1.53",
     "watchtower_name": "watchtower04"
    }
   },
   "source": [
    "#### Localization\n",
    "In order to set up the basic localization use the following commands on every watchtower:\n",
    "``` bash\n",
    "$ docker -H {{watchtower_name}}.local rm -f dt18_03_roscore_duckiebot-interface_1\n",
    "```\n",
    "``` bash\n",
    "$ docker -H {{watchtower_name}}.local pull duckietown/dt-duckiebot-interface:daffy-arm32v7\n",
    "```\n",
    "``` bash\n",
    "$ docker -H {{watchtower_name}}.local run --name duckiebot-interface --privileged -e ROBOT_TYPE=watchtower --restart unless-stopped -v /data:/data -dit --network=host duckietown/dt-duckiebot-interface:daffy-arm32v7\n",
    "```\n",
    "It might be that the last command fails. Use portainer to remove the ```dt-duckiebot-interface```-Container.\n",
    "\n",
    "Start the acquisition-bridge on all watchtowers:\n",
    "``` bash\n",
    "$ docker -H {{watchtower_name}}.local run --name acquisition-bridge --network=host -e ROBOT_TYPE=watchtower -e LAB_ROS_MASTER_IP={{pc_ip}} -dit duckietown/acquisition-bridge:daffy-arm32v7\n",
    "```\n"
   ]
  },
  {
   "cell_type": "markdown",
   "metadata": {},
   "source": [
    "<a id=\"subsection_db\"></a>\n",
    "### Duckiebot\n",
    "#### Hardware Setup\n",
    "Assemble the Duckiebot as prescribed in the manual of the respective version of the Kit.\n",
    "Ensure that no wires are touching the wheels, or hinder the benchmark in any other way.\n",
    "Clearly mark the different Duckiebots. Add an Apriltag to your Duckiebot and enter the name below. All in lowercase without whitespaces."
   ]
  },
  {
   "cell_type": "code",
   "execution_count": 6,
   "metadata": {},
   "outputs": [],
   "source": [
    "duckiename = 'autobot14'\n",
    "networks = 'duckietown:quackquack,ure:linden73550,ssid:passwd'"
   ]
  },
  {
   "cell_type": "markdown",
   "metadata": {
    "variables": {
     "benchmark_version": "daffy",
     "duckiename": "autobot14",
     "img_core": "duckietown/dt-core:daffy@sha256:4c7633c2041f5b7846be2346e0892c9f50987d2fd98d3479ec1a4cf378f52ee6",
     "img_core_ad64": "duckietown/dt-core:daffy-amd64@sha256:d72e8a8c3191c146ecc2a812bdd036aaf15076e6c1cb9467304e0e54f9a39a10",
     "networks": "duckietown:quackquack,ure:linden73550,ssid:passwd"
    }
   },
   "source": [
    "**Ensure that no hardware gets mixed between different configurations. Otherwise the whole benchmark will be invalidated.**\n",
    "\n",
    "#### Init SD Card\n",
    "Decide which software version (e.g. master19, daffy, ente) you want to run. Set the benchmark version to said software version using dts:\n",
    "``` bash\n",
    "$ dts benchmark set {{benchmark_version}}\n",
    "```\n",
    "If the set version should be checked use the following command:\n",
    "``` bash\n",
    "$ dts benchmark info\n",
    "```\n",
    "Use the init_sd_card command as known. (Some options which could change the software version are disabled) Use said hostname: {{duckiename}}\n",
    "``` bash\n",
    "$ dts init_sd_card --hostname {{duckiename}} --country CH --wifi {{networks}}\n",
    "```\n",
    "\n",
    "### Initial Setup\n",
    "After the `init_sd_card` procedure ist over, take any charged battery (which doesn’t belong to one of the bots to be tested) and plug the Duckiebot in. After some time the bot should be pingable, then ssh-ing into it should be possible. \n",
    "#### Portainer and compose\n",
    "Open [`{{duckiename}}.local:9000`](http://{{duckiename}}.local:9000) in a browser. As soon as portainer is running, there should be 4 containers one of which is not running (`duckietown/rpi-duckiebot-dashboard`), start that one via portainer.\n",
    "After a short time [`{{duckiename}}.local`]({{duckiename}}.local) should be reachable. Further progress of the installation can be see there after skipping the login. Finished setting up, enter the your duckietown-token.  \n",
    "\n",
    "#### Verification\n",
    "Use this command to test the setup\n",
    "```bash\n",
    "$ dts duckiebot keyboard_control {{duckiename}} --base_image {{img_core_ad64}}\n",
    "```\n",
    "and this command to test the camera:\n",
    "```bash\n",
    "$ dts start_gui_tools {{duckiename}} --base_image {{img_core_ad64}}\n",
    "```\n",
    "then use:\n",
    "```bash\n",
    "$ rqt_image_view\n",
    "```\n",
    "this should display the live camera feed.\n",
    "\n",
    "\n",
    "#### Calibration\n",
    "To calibrate the bot we use the same command as is used in the docs (https://docs.duckietown.org/daffy/opmanual_duckiebot/out/camera_calib.html). \n",
    "##### Camera intrinsic\n",
    "\n",
    "As the `duckiebot-interface` should be already running use the following command: \n",
    "``` bash\n",
    "$ dts duckiebot demo --demo_name camera --duckiebot_name {{duckiename}} --package_name pi_camera --image {{img_core}}\n",
    "```\n",
    "\n",
    "Then run the calibration using the command:\n",
    "``` bash\n",
    "$ dts duckiebot calibrate_intrinsics {{duckiename}}\n",
    "```\n",
    "\n",
    "##### Camera extrinsic\n",
    "Then run the calibration using the command:\n",
    "``` bash\n",
    "$ dts duckiebot calibrate_extrinsics {{duckiename}}\n",
    "```\n",
    "\n",
    "#### Wheels\n",
    "Use thew more detailed explaination here (https://docs.duckietown.org/daffy/opmanual_duckiebot/out/wheel_calibration.html)\n",
    "\n",
    "Use the `gui_tools` to connect to the ROS: \n",
    "```bash\n",
    "$ dts start_gui_tools {{duckiename}}\n",
    "```\n",
    "the use (in a different terminal) the description from the verification paragraph in order to start the keyboard control. \n",
    "\n",
    "Then use this command in the `gui_tools` in order to calibrate the bot. Adjust the `TRIM_VALUE` in order to do so. **Make sure the *weels can run freely* and that the bot drives straight within 10 cm on 2m.**\n",
    "```bash\n",
    "$ rosparam set /{{duckiename}}/kinematics_node/trim TRIM_VALUE\n",
    "```\n"
   ]
  },
  {
   "cell_type": "markdown",
   "metadata": {
    "variables": {
     "duckiename": "autobot14",
     "img_acq_bridge": "duckietown/acquisition-bridge:daffy-arm32v7@sha256:adda9218aa73ba42774aec74e6ec30fcb4b4e0c5545eaa9927c16d4426425f06",
     "img_car_if": "duckietown/dt-car-interface:daffy@sha256:e3db984157bf3a2b2d4ab7237536c17b37333711244a3206517daa187c143016",
     "img_core": "duckietown/dt-core:daffy@sha256:4c7633c2041f5b7846be2346e0892c9f50987d2fd98d3479ec1a4cf378f52ee6",
     "img_core_ad64": "duckietown/dt-core:daffy-amd64@sha256:d72e8a8c3191c146ecc2a812bdd036aaf15076e6c1cb9467304e0e54f9a39a10",
     "img_db_if": "duckietown/dt-duckiebot-interface:daffy@sha256:94a9defa553d1e238566a621e084c4b368e6a9b62053b02f0eef1d5685f9ea73",
     "pc_hostname": "big-mama",
     "pc_ip": "192.168.1.53"
    }
   },
   "source": [
    "<a id=\"section_Experiment\"></a>\n",
    "## Experiment\n",
    "\n",
    "### Preliminaries\n",
    "\n",
    "### Starting the lane following demo\n",
    "Use the following commands in the same order to set up the lane following.\n",
    "``` bash\n",
    "$ dts duckiebot demo --demo_name all_drivers --duckiebot_name {{duckiename}} --package_name duckiebot_interface --image {{img_db_if}}\n",
    "```\n",
    "\n",
    "```bash\n",
    "$ dts duckiebot demo --demo_name all --duckiebot_name {{duckiename}} --package_name car_interface --image {{img_car_if}}\n",
    "```\n",
    "\n",
    "\n",
    "```bash\n",
    "$ dts duckiebot demo --demo_name lane_following --duckiebot_name {{duckiename}} --package_name duckietown_demos --image {{img_core}}\n",
    "```\n",
    "\n",
    "#### Start the acquisition\n",
    "\n",
    "```bash\n",
    "$ docker -H {{duckiename}}.local run --name acquisition-bridge --network=host -v /data:/data -e LAB_ROS_MASTER_IP={{pc_ip}} -dit {{img_acq_bridge}}\n",
    "```\n",
    "```bash\n",
    "$ dts start_gui_tools {{pc_hostname}}\n",
    "$ rqt_image_view\n",
    "```\n",
    "If the ros-master is missing use the #Todo# Command in order to restart the ros master\n",
    "\n",
    "exit and run:\n",
    "```bash\n",
    "$ docker run -it -e VEHICLE_NAME={{pc_hostname}}  -e VEHICLE_IP={{pc_ip}} --rm -v /home/lujobi/data:/data duckietown/dt-ros-commons:daffy-amd64 /bin/bash\n",
    "```\n",
    "\n",
    "#### Start the demo\n",
    "start the keyboard\n",
    "```bash\n",
    "$ dts duckiebot keyboard_control {{duckiename}} --base_image {{img_core_ad64}}\n",
    "```"
   ]
  },
  {
   "cell_type": "markdown",
   "metadata": {},
   "source": [
    "### Data Collection"
   ]
  },
  {
   "cell_type": "code",
   "execution_count": 7,
   "metadata": {},
   "outputs": [],
   "source": [
    "bag_name = 'first_bm'\n",
    "bm_group = 'test'\n",
    "bm_subgroup = 'new'\n",
    "bm_duration = 180"
   ]
  },
  {
   "cell_type": "markdown",
   "metadata": {
    "variables": {
     "bag_name": "first_bm",
     "bm_duration": "180",
     "bm_group": "test",
     "bm_subgroup": "new",
     "duckiename": "autobot14"
    }
   },
   "source": [
    "Press a in order to start the auto lanefollowing after the first round start the data collection\n",
    "```bash\n",
    "$ rosbag record -a -O /data/{{bag_name}}\n",
    "```\n",
    "then start the diagnostics\n",
    "```bash\n",
    "$ dts diagnostics run -G {{bm_group}} -S {{bm_subgroup}} -d {{bm_duration}} -H {{duckiename}}.local --type duckiebot\n",
    "```\n",
    "after the diagnostics have finished stop the recording from with Ctrl+C, then stop the lane following.\n"
   ]
  },
  {
   "cell_type": "markdown",
   "metadata": {
    "variables": {
     "bag_name": "first_bm",
     "github_username": "lujobi",
     "map_name": "Luzi_loop",
     "pc_hostname": "big-mama",
     "pc_ip": "192.168.1.53"
    }
   },
   "source": [
    "<a id=\"section_Data_prep\"></a>\n",
    "## Data preparation\n",
    "\n",
    "```bash\n",
    "$ docker run --name post_processor -dit --rm -e INPUT_BAG_PATH=/data/{{bag_name}} -e OUTPUT_BAG_PATH=/data/processed_{{bag_name}}.bag -e ROS_MASTER_URI=http://{{pc_ip}}:11311 -v /home/lujobi/data:/data duckietown/post-processor:daffy-amd64\n",
    "```\n",
    "```bash\n",
    "$ docker run --rm  -e  ATMSGS_BAG=/data/processed_{{bag_name}} -e OUTPUT_DIR=/data -e ROS_MASTER={{pc_hostname}} -e ROS_MASTER_IP={{pc_ip}} --name graph_optimizer -v /home/lujobi/data:/data -e DUCKIETOWN_WORLD_FORK={{github_username}} -e MAP_NAME={{map_name}} duckietown/cslam-graphoptimizer:daffy-amd64\n",
    "```"
   ]
  },
  {
   "cell_type": "markdown",
   "metadata": {},
   "source": [
    "### Diagnostics\n",
    "Go to https://dashboard.duckietown.org/diagnostics and download the respective file then upload it here"
   ]
  },
  {
   "cell_type": "code",
   "execution_count": 8,
   "metadata": {},
   "outputs": [
    {
     "data": {
      "application/vnd.jupyter.widget-view+json": {
       "model_id": "c9e351ed3ef649bb9b585f14f8bc439b",
       "version_major": 2,
       "version_minor": 0
      },
      "text/plain": [
       "FileUpload(value={}, accept='.json', description='Upload')"
      ]
     },
     "metadata": {},
     "output_type": "display_data"
    }
   ],
   "source": [
    "from ipywidgets import FileUpload\n",
    "upload = FileUpload(accept='.json',\n",
    "    multiple=False)\n",
    "upload"
   ]
  },
  {
   "cell_type": "code",
   "execution_count": 9,
   "metadata": {},
   "outputs": [
    {
     "ename": "AssertionError",
     "evalue": "File missing, please upload in above cell",
     "output_type": "error",
     "traceback": [
      "\u001b[0;31m---------------------------------------------------------------------------\u001b[0m",
      "\u001b[0;31mAssertionError\u001b[0m                            Traceback (most recent call last)",
      "\u001b[0;32m<ipython-input-9-111d85aa4140>\u001b[0m in \u001b[0;36m<module>\u001b[0;34m\u001b[0m\n\u001b[1;32m      6\u001b[0m \u001b[0;32mfrom\u001b[0m \u001b[0mscipy\u001b[0m \u001b[0;32mimport\u001b[0m \u001b[0minterpolate\u001b[0m\u001b[0;34m\u001b[0m\u001b[0;34m\u001b[0m\u001b[0m\n\u001b[1;32m      7\u001b[0m \u001b[0;34m\u001b[0m\u001b[0m\n\u001b[0;32m----> 8\u001b[0;31m \u001b[0;32massert\u001b[0m \u001b[0mupload\u001b[0m\u001b[0;34m.\u001b[0m\u001b[0mdata\u001b[0m\u001b[0;34m,\u001b[0m \u001b[0;34m'File missing, please upload in above cell'\u001b[0m\u001b[0;34m\u001b[0m\u001b[0;34m\u001b[0m\u001b[0m\n\u001b[0m\u001b[1;32m      9\u001b[0m \u001b[0mdata\u001b[0m \u001b[0;34m=\u001b[0m \u001b[0mjson\u001b[0m\u001b[0;34m.\u001b[0m\u001b[0mloads\u001b[0m\u001b[0;34m(\u001b[0m\u001b[0mupload\u001b[0m\u001b[0;34m.\u001b[0m\u001b[0mdata\u001b[0m\u001b[0;34m[\u001b[0m\u001b[0;36m0\u001b[0m\u001b[0;34m]\u001b[0m\u001b[0;34m.\u001b[0m\u001b[0mdecode\u001b[0m\u001b[0;34m(\u001b[0m\u001b[0;34m'utf-8'\u001b[0m\u001b[0;34m)\u001b[0m\u001b[0;34m)\u001b[0m\u001b[0;34m\u001b[0m\u001b[0;34m\u001b[0m\u001b[0m\n\u001b[1;32m     10\u001b[0m \u001b[0;34m\u001b[0m\u001b[0m\n",
      "\u001b[0;31mAssertionError\u001b[0m: File missing, please upload in above cell"
     ]
    }
   ],
   "source": [
    "%matplotlib notebook\n",
    "\n",
    "import json\n",
    "import matplotlib.pyplot as plt\n",
    "import numpy as np\n",
    "from scipy import interpolate\n",
    "\n",
    "assert upload.data, 'File missing, please upload in above cell'\n",
    "data = json.loads(upload.data[0].decode('utf-8'))\n",
    "\n",
    "\n",
    "meas_name = ['Memory', 'Swap', 'CPU']\n",
    "\n",
    "bm_data = np.array([[],[],[],[]])\n",
    "t0= data['resources_stats'][0]['time']\n",
    "\n",
    "for meas in data['resources_stats']:\n",
    "    dat = np.array([[meas['time']-t0, meas['memory']['used']/meas['memory']['total']*100, meas['swap']['used']/meas['swap']['total']*100, meas['cpu']['pcpu']]])\n",
    "    bm_data = np.append(bm_data, dat.T, axis=1)\n",
    "\n",
    "\n",
    "time_ip = np.linspace(bm_data[0][0], bm_data[0][-1], 100) \n",
    "bm_ip = np.array([time_ip])\n",
    "\n",
    "fig, axes= plt.subplots(3, 1, figsize=(9, 8))\n",
    "fig.text(0.5, 0.04, 'time', ha='center', va='center')\n",
    "fig.text(0.03, 0.5, 'Performance', ha='center', va='center', rotation='vertical')\n",
    "\n",
    "for i in range(len(bm_data)-1):\n",
    "    tck = interpolate.splrep(bm_data[0], bm_data[i+1], s=0)\n",
    "    ip = np.array([interpolate.splev(bm_ip[0], tck, der=0)])\n",
    "    bm_ip = np.append(bm_ip, ip, axis=0)\n",
    "    \n",
    "    \n",
    "    axes[i].plot(bm_data[0], bm_data[i+1], bm_ip[0], bm_ip[i+1])\n",
    "    axes[i].legend(['Measurement', 'IP Measurement'])\n",
    "    axes[i].set_title(meas_name[i])\n",
    "    axes[i].set_ylim(0, 100)\n",
    "    \n",
    "    \n",
    "fig.suptitle('Diagnostics', fontsize=16)\n",
    "plt.show()\n"
   ]
  },
  {
   "cell_type": "markdown",
   "metadata": {},
   "source": [
    "<a id=\"section_Troubleshooting\"></a>\n",
    "## Troubleshooting\n",
    "### Init_sd_card\n",
    "Should an error like the one below appear: \n",
    "``` bash\n",
    "subprocess.CalledProcessError: Command '['sudo', 'e2fsck', '-f', '/dev/sdb2']' returned non-zero exit status 8.\n",
    "```\n",
    "use ```$ sudo fdisk /dev/device``` to delete all partitions on the device. (d to delete, w to write)\n",
    "\n",
    "### Render Apriltags\n",
    "If your map is rendered really tiny. You probably entered the measurements of the april tags in another unit than meters. \n"
   ]
  },
  {
   "cell_type": "code",
   "execution_count": null,
   "metadata": {},
   "outputs": [],
   "source": []
  },
  {
   "cell_type": "code",
   "execution_count": null,
   "metadata": {},
   "outputs": [],
   "source": []
  },
  {
   "cell_type": "code",
   "execution_count": null,
   "metadata": {},
   "outputs": [],
   "source": []
  },
  {
   "cell_type": "code",
   "execution_count": null,
   "metadata": {},
   "outputs": [],
   "source": []
  },
  {
   "cell_type": "code",
   "execution_count": null,
   "metadata": {},
   "outputs": [],
   "source": []
  }
 ],
 "metadata": {
  "file_extension": ".py",
  "kernelspec": {
   "display_name": "Python 3",
   "language": "python",
   "name": "python3"
  },
  "language_info": {
   "codemirror_mode": {
    "name": "ipython",
    "version": 3
   },
   "file_extension": ".py",
   "mimetype": "text/x-python",
   "name": "python",
   "nbconvert_exporter": "python",
   "pygments_lexer": "ipython3",
   "version": "3.7.5"
  },
  "mimetype": "text/x-python",
  "name": "python",
  "npconvert_exporter": "python",
  "pygments_lexer": "ipython3",
  "version": 3
 },
 "nbformat": 4,
 "nbformat_minor": 2
}
