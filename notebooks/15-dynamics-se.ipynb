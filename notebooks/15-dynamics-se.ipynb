{
 "cells": [
  {
   "cell_type": "markdown",
   "metadata": {
    "pycharm": {}
   },
   "source": [
    "# Example of Dynamics Model integration\n",
    " "
   ]
  },
  {
   "cell_type": "code",
   "execution_count": 1,
   "metadata": {
    "pycharm": {
     "is_executing": true
    }
   },
   "outputs": [
    {
     "name": "stderr",
     "output_type": "stream",
     "text": [
      "INFO:dt-world:duckietown-world 5.0.10\n",
      "INFO:zuper-typing:zuper-typing 5.0.12\n",
      "INFO:zuper-commons:zuper-commons 5.0.7\n"
     ]
    }
   ],
   "source": [
    "%load_ext autoreload\n",
    "%autoreload 2\n",
    "import geometry as geo\n",
    "import numpy as np\n",
    "from duckietown_world.world_duckietown import *"
   ]
  },
  {
   "cell_type": "markdown",
   "metadata": {
    "pycharm": {}
   },
   "source": [
    "### Simulation"
   ]
  },
  {
   "cell_type": "code",
   "execution_count": 2,
   "metadata": {
    "pycharm": {
     "is_executing": true
    }
   },
   "outputs": [
    {
     "name": "stdout",
     "output_type": "stream",
     "text": [
      "pose: [0. 0.]\n",
      "theta: 11.459155902616466\n",
      "pose: [0. 0.]\n",
      "theta: 22.91831180523293\n",
      "pose: [0. 0.]\n",
      "theta: 34.377467707849384\n",
      "pose: [0. 0.]\n",
      "theta: 45.83662361046586\n",
      "pose: [0. 0.]\n",
      "theta: 57.29577951308232\n"
     ]
    }
   ],
   "source": [
    "\n",
    "# Model Parameters\n",
    "u2 = u3 = w1 = w2 = w3 = 0 # to simplify the model\n",
    "u1 = w1 = 1 # main contributor from unforced dynamics\n",
    "uar = ual = war = wal = 1 # input matrix\n",
    "\n",
    "parameters = DynamicModelParameters(u1, u2, u3, w1, w2, w3, uar, ual, war, wal)\n",
    "\n",
    "# initial configuration\n",
    "init_pose = np.array([0,0])\n",
    "init_vel = np.array([0,0])\n",
    "init_time = 0\n",
    "\n",
    "q0 = geo.SE2_from_R2(init_pose)\n",
    "v0 = geo.se2_from_linear_angular(init_vel, 0)\n",
    "c0 = q0, v0\n",
    "\n",
    "# starting time\n",
    "t0 = 0\n",
    "state = parameters.initialize(c0=c0, t0=t0)\n",
    "\n",
    "\n",
    "del_t = 1\n",
    "\n",
    "for i in range(5):\n",
    "    # input = (left: -0.1, right: 0.1) must generate a counter-clockwise rotation (increasing theta)\n",
    "    commands = PWMCommands(-0.1, 0.1)\n",
    "    state = state.integrate(del_t, commands)\n",
    "    \n",
    "    q, v = state.TSE2_from_state()\n",
    "    current_p, theta = geo.translation_angle_from_SE2(q)\n",
    "    \n",
    "    print('pose: {}'.format(current_p))\n",
    "    print('theta: {}'.format(np.rad2deg(theta)))\n",
    "\n"
   ]
  },
  {
   "cell_type": "code",
   "execution_count": null,
   "metadata": {},
   "outputs": [],
   "source": []
  }
 ],
 "metadata": {
  "celltoolbar": "Raw Cell Format",
  "kernelspec": {
   "display_name": "Python 3",
   "language": "python",
   "name": "python3"
  },
  "language_info": {
   "codemirror_mode": {
    "name": "ipython",
    "version": 3
   },
   "file_extension": ".py",
   "mimetype": "text/x-python",
   "name": "python",
   "nbconvert_exporter": "python",
   "pygments_lexer": "ipython3",
   "version": "3.7.2"
  }
 },
 "nbformat": 4,
 "nbformat_minor": 2
}
