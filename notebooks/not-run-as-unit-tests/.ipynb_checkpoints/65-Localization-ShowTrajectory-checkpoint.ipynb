{
 "cells": [
  {
   "cell_type": "code",
   "execution_count": 6,
   "metadata": {},
   "outputs": [],
   "source": [
    "TRAJECTORY_DIR = '/home/linuslingg/duckietown-world/notebooks/logs_linus'\n",
    "MAP_NAME = 'linus_loop'\n",
    "EXPERIMENT_NAME = None\n",
    "ROBOT_NAME = 'autobot18'"
   ]
  },
  {
   "cell_type": "code",
   "execution_count": 7,
   "metadata": {},
   "outputs": [
    {
     "name": "stderr",
     "output_type": "stream",
     "text": [
      "INFO:dt-world:loading map linus_loop\n"
     ]
    }
   ],
   "source": [
    "# disabling contracts for speed\n",
    "import contracts\n",
    "import yaml\n",
    "import numpy as np\n",
    "import geometry as geo\n",
    "import numpy as np\n",
    "from duckietown_world.world_duckietown.tile_template import load_tile_types\n",
    "from duckietown_world.geo.measurements_utils import iterate_by_class\n",
    "from duckietown_world.world_duckietown.tile import get_lane_poses\n",
    "import duckietown_world as dw\n",
    "from copy import deepcopy\n",
    "\n",
    "contracts.disable_all()\n",
    "m = dw.load_map(MAP_NAME)\n"
   ]
  },
  {
   "cell_type": "code",
   "execution_count": 8,
   "metadata": {},
   "outputs": [],
   "source": [
    "import duckietown_world as dw\n",
    "from duckietown_world.svg_drawing.ipython_utils import ipython_draw_svg, ipython_draw_html\n",
    "\n",
    "class Person(dw.PlacedObject):\n",
    "    def __init__(self, radius, *args, **kwargs):\n",
    "        self.radius = radius\n",
    "        dw.PlacedObject.__init__(self, *args, **kwargs)\n",
    "\n",
    "    def draw_svg(self, drawing, g):\n",
    "        # drawing is done using the library svgwrite\n",
    "        c = drawing.circle(center=(0, 0), r=self.radius, fill='pink')\n",
    "        g.add(c)\n",
    "        # draws x,y axes\n",
    "        dw.draw_axes(drawing, g)\n",
    "\n",
    "    def extent_points(self):\n",
    "        # set of points describing the boundary \n",
    "        L = self.radius\n",
    "        return [(-L, -L), (+L, +L)]"
   ]
  },
  {
   "cell_type": "code",
   "execution_count": 9,
   "metadata": {},
   "outputs": [],
   "source": [
    "root = dw.PlacedObject()\n",
    "import sys, os\n",
    "import traceback\n",
    "\n",
    "exp_dir = os.path.join(TRAJECTORY_DIR, EXPERIMENT_NAME) if EXPERIMENT_NAME else TRAJECTORY_DIR\n",
    "trajectory_file = os.path.join(exp_dir, ROBOT_NAME) + '.yaml'\n",
    "with open(trajectory_file, 'r') as stream:\n",
    "\n",
    "    try:\n",
    "        data = yaml.safe_load(stream)\n",
    "    except yaml.YAMLError as exc:\n",
    "        print(exc)\n",
    "\n",
    "    timestart = data['begin_time_stamp']\n",
    "    data_points = len(data['trajectory_data'])\n",
    "    \n",
    "    x = np.zeros((data_points,))\n",
    "    y= np.zeros((data_points,))\n",
    "    R = np.zeros((3,3, data_points))            \n",
    "    phi = np.zeros((3, data_points))\n",
    "\n",
    "    dx = 999.999*np.ones((data_points, ))\n",
    "    dy = 999.999*np.ones((data_points, ))\n",
    "    dr = 999.999*np.ones((data_points, ))\n",
    "    dphi = 999.999*np.ones((data_points, ))\n",
    "\n",
    "    final_trajectory = []\n",
    "    for idx, [time, traj] in enumerate(data['trajectory_data'].items()):\n",
    "        x[idx] = np.array(traj[0])\n",
    "        y[idx] = np.array(traj[1])\n",
    "        \n",
    "        R[:,:,idx] = np.reshape(np.array(traj[3:]), (3,3))\n",
    "        phi[:,idx] = np.array([np.arctan2(-R[1,2,idx],R[2,2,idx]), \n",
    "                               np.arctan2(R[0,2,idx],np.sqrt(R[0,0,idx]**2 + R[0,1,idx]**2)),\n",
    "                               np.arctan2(-R[0,1,idx], R[0,0,idx])])\n",
    "        \n",
    "        z = phi[2,idx]\n",
    "        points = np.array([x[idx], y[idx]])\n",
    "        final_trajectory.append([points, z])\n",
    "    final_array = final_trajectory\n",
    "    \n",
    "seqs2 = []\n",
    "for entry in range(0, len(final_array)):\n",
    "    x =  (final_array[entry][0][0] )  # -2.2\n",
    "    y = final_array[entry][0][1] # + 0.8\n",
    "    alpha = final_array[entry][1]\n",
    "    q5 = geo.SE2_from_translation_angle([x,y],alpha)\n",
    "    seqs2.append(q5)\n",
    "    \n",
    "timestamps = range(len(seqs2)) # [0, 1, 2, ...]\n",
    "# SE2Transform is the wrapper for SE2 used by Duckietown World \n",
    "transforms = [dw.SE2Transform.from_SE2(_) for _ in seqs2]\n",
    "seq_me = dw.SampledSequence[object](timestamps, transforms)"
   ]
  },
  {
   "cell_type": "code",
   "execution_count": 10,
   "metadata": {},
   "outputs": [
    {
     "name": "stdout",
     "output_type": "stream",
     "text": [
      "Computing projection...\n",
      "Done!\n"
     ]
    }
   ],
   "source": [
    "counter = 0\n",
    "center_points2 = []\n",
    "timestamps2 = []\n",
    "\n",
    "print('Computing projection...')\n",
    "for timestamp, pose_object in seq_me:\n",
    "    counter += 1\n",
    "\n",
    "    hoi = list(get_lane_poses(m, pose_object.as_SE2()))\n",
    "    if len(hoi) == 0:\n",
    "        continue\n",
    "    else:\n",
    "        distance_from_left = hoi[0].lane_pose.distance_from_left\n",
    "        distance_from_right = hoi[0].lane_pose.distance_from_right\n",
    "        distance_from_center = hoi[0].lane_pose.distance_from_center\n",
    "        inside = hoi[0].lane_pose.along_lane\n",
    "        center_point = hoi[0].lane_pose.center_point\n",
    "        correct_direction = hoi[0].lane_pose.correct_direction\n",
    "        rel_heading = hoi[0].lane_pose.relative_heading\n",
    "        if correct_direction is False:\n",
    "            distance_from_center = distance_from_center \n",
    "        if distance_from_center > hoi[0].lane_pose.lateral_left:\n",
    "            if distance_from_left < distance_from_right:\n",
    "                print('outside left')\n",
    "            else:\n",
    "                print('outside right')\n",
    "        center_points2.append(hoi[0].lane_pose.center_point)\n",
    "        timestamps2.append(timestamp)\n",
    "print('Done!')"
   ]
  },
  {
   "cell_type": "code",
   "execution_count": 11,
   "metadata": {},
   "outputs": [],
   "source": [
    "# we now add a marker for projection in the center point\n",
    "sequence = dw.SampledSequence[object](timestamps2, center_points2)\n",
    "#m.set_object(\"projection2\", dw.PlacedObject(), ground_truth=sequence)\n",
    "\n",
    "m.set_object(\"me\", Person(0.01), ground_truth=seq_me)\n"
   ]
  },
  {
   "cell_type": "code",
   "execution_count": 12,
   "metadata": {},
   "outputs": [
    {
     "name": "stderr",
     "output_type": "stream",
     "text": [
      "INFO:dt-world:area: RectangularArea(pmin=[ 0.    -0.156],pmax=[1.72371067 1.33500001])\n",
      "INFO:dt-world:Written SVG to out/ipython_draw_html/140650918761104/drawing.svg\n",
      "INFO:dt-world:Written HTML to out/ipython_draw_html/140650918761104/drawing.html\n"
     ]
    },
    {
     "data": {
      "text/html": [
       "\n",
       "        <iframe\n",
       "            width=\"100%\"\n",
       "            height=\"600\"\n",
       "            src=\"out/ipython_draw_html/140650918761104/drawing.html\"\n",
       "            frameborder=\"0\"\n",
       "            allowfullscreen\n",
       "        ></iframe>\n",
       "        "
      ],
      "text/plain": [
       "<IPython.lib.display.IFrame at 0x7febd1836050>"
      ]
     },
     "metadata": {},
     "output_type": "display_data"
    }
   ],
   "source": [
    "ipython_draw_html(m);\n",
    "\n"
   ]
  },
  {
   "cell_type": "code",
   "execution_count": null,
   "metadata": {},
   "outputs": [],
   "source": []
  },
  {
   "cell_type": "code",
   "execution_count": null,
   "metadata": {},
   "outputs": [],
   "source": []
  }
 ],
 "metadata": {
  "kernelspec": {
   "display_name": "Python 3",
   "language": "python",
   "name": "python3"
  },
  "language_info": {
   "codemirror_mode": {
    "name": "ipython",
    "version": 3
   },
   "file_extension": ".py",
   "mimetype": "text/x-python",
   "name": "python",
   "nbconvert_exporter": "python",
   "pygments_lexer": "ipython3",
   "version": "3.7.5"
  }
 },
 "nbformat": 4,
 "nbformat_minor": 2
}
