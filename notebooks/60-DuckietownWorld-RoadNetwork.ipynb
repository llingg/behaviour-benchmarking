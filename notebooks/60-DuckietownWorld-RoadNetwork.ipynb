{
 "cells": [
  {
   "cell_type": "markdown",
   "metadata": {},
   "source": [
    "# Setup"
   ]
  },
  {
   "cell_type": "code",
   "execution_count": 1,
   "metadata": {},
   "outputs": [],
   "source": [
    "import contracts\n",
    "contracts.disable_all()"
   ]
  },
  {
   "cell_type": "code",
   "execution_count": 2,
   "metadata": {},
   "outputs": [
    {
     "name": "stderr",
     "output_type": "stream",
     "text": [
      "INFO:dt-world:duckietown-world 5.0.10\n",
      "INFO:zuper-typing:zuper-typing 5.0.12\n",
      "INFO:zuper-commons:zuper-commons 5.0.7\n"
     ]
    }
   ],
   "source": [
    "import duckietown_world as dw\n",
    "from duckietown_world.svg_drawing.ipython_utils import ipython_draw_html"
   ]
  },
  {
   "cell_type": "code",
   "execution_count": 3,
   "metadata": {},
   "outputs": [],
   "source": [
    "dw.logger.setLevel(50)"
   ]
  },
  {
   "cell_type": "markdown",
   "metadata": {},
   "source": [
    "Better visualization of output"
   ]
  },
  {
   "cell_type": "code",
   "execution_count": 4,
   "metadata": {},
   "outputs": [
    {
     "data": {
      "text/html": [
       "<style>\n",
       "pre {line-height: 90%}\n",
       "</style>\n"
      ],
      "text/plain": [
       "<IPython.core.display.HTML object>"
      ]
     },
     "metadata": {},
     "output_type": "display_data"
    }
   ],
   "source": [
    "%%html\n",
    "<style>\n",
    "pre {line-height: 90%}\n",
    "</style>"
   ]
  },
  {
   "cell_type": "markdown",
   "metadata": {},
   "source": [
    "# Road Network\n",
    "Let's load a map and compute the road network."
   ]
  },
  {
   "cell_type": "code",
   "execution_count": 5,
   "metadata": {},
   "outputs": [],
   "source": [
    "m = dw.load_map('robotarium1')\n"
   ]
  },
  {
   "cell_type": "markdown",
   "metadata": {},
   "source": [
    "Use the function `get_skeleton_graph`:"
   ]
  },
  {
   "cell_type": "code",
   "execution_count": 6,
   "metadata": {},
   "outputs": [],
   "source": [
    "sk = dw.get_skeleton_graph(m)"
   ]
  },
  {
   "cell_type": "markdown",
   "metadata": {},
   "source": [
    "The return type is `SkeletonGraphResult`. It contains in `sk.root2` a new map with the joined lane segments. "
   ]
  },
  {
   "cell_type": "code",
   "execution_count": 7,
   "metadata": {},
   "outputs": [
    {
     "data": {
      "text/html": [
       "\n",
       "        <iframe\n",
       "            width=\"100%\"\n",
       "            height=\"600\"\n",
       "            src=\"out/ipython_draw_html/4818416024/drawing.html\"\n",
       "            frameborder=\"0\"\n",
       "            allowfullscreen\n",
       "        ></iframe>\n",
       "        "
      ],
      "text/plain": [
       "<IPython.lib.display.IFrame at 0x1219df048>"
      ]
     },
     "metadata": {},
     "output_type": "display_data"
    }
   ],
   "source": [
    "ipython_draw_html(sk.root2);"
   ]
  },
  {
   "cell_type": "markdown",
   "metadata": {},
   "source": [
    "While in the attribute `sk.G` we find a graph describing the topology.\n",
    "\n",
    "This is a graph where each node is a meeting point between lanes, and each edge represents a lane."
   ]
  },
  {
   "cell_type": "code",
   "execution_count": 8,
   "metadata": {},
   "outputs": [
    {
     "name": "stdout",
     "output_type": "stream",
     "text": [
      "['P0', 'P1', 'P2', 'P3', 'P4', 'P5', 'P6', 'P7', 'P8', 'P9', 'P10', 'P11', 'P12', 'P13', 'P14', 'P15', 'P16', 'P17', 'P18', 'P19', 'P20', 'P21', 'P22', 'P23', 'P24', 'P25', 'P26', 'P27', 'P28', 'P29', 'P30', 'P31', 'P32', 'P33', 'P34', 'P35', 'P36', 'P37', 'P38', 'P39', 'P40', 'P41', 'P42', 'P43', 'P44', 'P45', 'P46', 'P47', 'P48', 'P49', 'P50', 'P51', 'P52', 'P53', 'P54', 'P55', 'P56', 'P57', 'P58', 'P59', 'P60', 'P61', 'P62', 'P63', 'P64', 'P65', 'P66', 'P67', 'P68', 'P69', 'P70', 'P71', 'P72', 'P73', 'P74', 'P75', 'P76', 'P77', 'P78', 'P79', 'P80', 'P81', 'P82', 'P83']\n"
     ]
    }
   ],
   "source": [
    "# nodes\n",
    "print(list(sk.G))"
   ]
  },
  {
   "cell_type": "code",
   "execution_count": 9,
   "metadata": {},
   "outputs": [
    {
     "name": "stdout",
     "output_type": "stream",
     "text": [
      "I can go from P0 to P3 using lane L16\n",
      "I can go from P1 to P4 using lane ls020\n",
      "I can go from P1 to P5 using lane ls021\n",
      "I can go from P2 to P1 using lane L17\n",
      "I can go from P3 to P11 using lane ls043\n",
      "I can go from P3 to P9 using lane ls042\n",
      "I can go from P4 to P13 using lane ls045\n",
      "I can go from P5 to P8 using lane L26\n",
      "I can go from P6 to P0 using lane ls023\n",
      "I can go from P6 to P4 using lane ls022\n",
      "I can go from P7 to P0 using lane ls025\n",
      "I can go from P7 to P5 using lane ls024\n",
      "I can go from P8 to P11 using lane ls041\n",
      "I can go from P8 to P2 using lane ls040\n",
      "I can go from P9 to P6 using lane L27\n",
      "I can go from P10 to P9 using lane ls039\n",
      "I can go from P10 to P2 using lane ls038\n",
      "I can go from P11 to P16 using lane L41\n",
      "I can go from P12 to P7 using lane ls044\n",
      "I can go from P13 to P14 using lane ls048\n",
      "I can go from P13 to P15 using lane ls049\n",
      "I can go from P14 to P19 using lane L43\n",
      "I can go from P15 to P10 using lane L40\n",
      "I can go from P16 to P12 using lane ls051\n",
      "I can go from P16 to P14 using lane ls050\n",
      "I can go from P17 to P15 using lane ls052\n",
      "I can go from P17 to P12 using lane ls053\n",
      "I can go from P18 to P17 using lane L42\n",
      "I can go from P19 to P21 using lane ls091\n",
      "I can go from P19 to P22 using lane ls093\n",
      "I can go from P19 to P23 using lane ls092\n",
      "I can go from P20 to P23 using lane ls084\n",
      "I can go from P20 to P22 using lane ls082\n",
      "I can go from P20 to P18 using lane ls083\n",
      "I can go from P21 to P27 using lane L69\n",
      "I can go from P22 to P29 using lane L74\n",
      "I can go from P23 to P41 using lane L82\n",
      "I can go from P24 to P21 using lane ls086\n",
      "I can go from P24 to P23 using lane ls085\n",
      "I can go from P24 to P18 using lane ls087\n",
      "I can go from P25 to P18 using lane ls088\n",
      "I can go from P25 to P22 using lane ls089\n",
      "I can go from P25 to P21 using lane ls090\n",
      "I can go from P26 to P20 using lane L68\n",
      "I can go from P27 to P31 using lane ls129\n",
      "I can go from P27 to P30 using lane ls128\n",
      "I can go from P28 to P24 using lane L75\n",
      "I can go from P29 to P35 using lane ls149\n",
      "I can go from P29 to P36 using lane ls151\n",
      "I can go from P29 to P37 using lane ls150\n",
      "I can go from P30 to P47 using lane L101\n",
      "I can go from P31 to P34 using lane L86\n",
      "I can go from P32 to P30 using lane ls130\n",
      "I can go from P32 to P26 using lane ls131\n",
      "I can go from P33 to P31 using lane ls132\n",
      "I can go from P33 to P26 using lane ls133\n",
      "I can go from P34 to P36 using lane ls140\n",
      "I can go from P34 to P37 using lane ls142\n",
      "I can go from P34 to P28 using lane ls141\n",
      "I can go from P35 to P32 using lane L87\n",
      "I can go from P36 to P49 using lane L106\n",
      "I can go from P37 to P42 using lane L99\n",
      "I can go from P38 to P28 using lane ls145\n",
      "I can go from P38 to P37 using lane ls143\n",
      "I can go from P38 to P35 using lane ls144\n",
      "I can go from P39 to P36 using lane ls147\n",
      "I can go from P39 to P35 using lane ls148\n",
      "I can go from P39 to P28 using lane ls146\n",
      "I can go from P40 to P25 using lane L83\n",
      "I can go from P41 to P45 using lane ls173\n",
      "I can go from P41 to P43 using lane ls172\n",
      "I can go from P42 to P45 using lane ls171\n",
      "I can go from P42 to P40 using lane ls170\n",
      "I can go from P43 to P39 using lane L98\n",
      "I can go from P44 to P40 using lane ls168\n",
      "I can go from P44 to P43 using lane ls169\n",
      "I can go from P45 to P51 using lane L109\n",
      "I can go from P46 to P33 using lane L100\n",
      "I can go from P47 to P53 using lane ls191\n",
      "I can go from P47 to P52 using lane ls190\n",
      "I can go from P48 to P38 using lane L107\n",
      "I can go from P49 to P64 using lane ls221\n",
      "I can go from P49 to P63 using lane ls219\n",
      "I can go from P49 to P65 using lane ls220\n",
      "I can go from P50 to P44 using lane L108\n",
      "I can go from P51 to P71 using lane ls231\n",
      "I can go from P51 to P69 using lane ls230\n",
      "I can go from P52 to P76 using lane L131\n",
      "I can go from P53 to P56 using lane L110\n",
      "I can go from P54 to P46 using lane ls193\n",
      "I can go from P54 to P52 using lane ls192\n",
      "I can go from P55 to P46 using lane ls195\n",
      "I can go from P55 to P53 using lane ls194\n",
      "I can go from P56 to P59 using lane ls204\n",
      "I can go from P56 to P61 using lane ls205\n",
      "I can go from P57 to P54 using lane L111\n",
      "I can go from P58 to P57 using lane ls200\n",
      "I can go from P58 to P59 using lane ls201\n",
      "I can go from P59 to P73 using lane L119\n",
      "I can go from P60 to P57 using lane ls202\n",
      "I can go from P60 to P61 using lane ls203\n",
      "I can go from P61 to P62 using lane L112\n",
      "I can go from P62 to P65 using lane ls212\n",
      "I can go from P62 to P64 using lane ls210\n",
      "I can go from P62 to P48 using lane ls211\n",
      "I can go from P63 to P58 using lane L113\n",
      "I can go from P64 to P75 using lane L121\n",
      "I can go from P65 to P68 using lane L114\n",
      "I can go from P66 to P65 using lane ls213\n",
      "I can go from P66 to P63 using lane ls214\n",
      "I can go from P66 to P48 using lane ls215\n",
      "I can go from P67 to P64 using lane ls217\n",
      "I can go from P67 to P48 using lane ls216\n",
      "I can go from P67 to P63 using lane ls218\n",
      "I can go from P68 to P50 using lane ls228\n",
      "I can go from P68 to P71 using lane ls229\n",
      "I can go from P69 to P67 using lane L115\n",
      "I can go from P70 to P69 using lane ls227\n",
      "I can go from P70 to P50 using lane ls226\n",
      "I can go from P71 to P83 using lane L137\n",
      "I can go from P72 to P60 using lane L118\n",
      "I can go from P73 to P77 using lane ls257\n",
      "I can go from P73 to P78 using lane ls256\n",
      "I can go from P74 to P66 using lane L120\n",
      "I can go from P75 to P82 using lane ls266\n",
      "I can go from P75 to P81 using lane ls267\n",
      "I can go from P76 to P72 using lane ls255\n",
      "I can go from P76 to P78 using lane ls254\n",
      "I can go from P77 to P55 using lane L130\n",
      "I can go from P78 to P80 using lane L132\n",
      "I can go from P79 to P72 using lane ls258\n",
      "I can go from P79 to P77 using lane ls259\n",
      "I can go from P80 to P82 using lane ls264\n",
      "I can go from P80 to P74 using lane ls265\n",
      "I can go from P81 to P79 using lane L133\n",
      "I can go from P82 to P70 using lane L136\n",
      "I can go from P83 to P74 using lane ls268\n",
      "I can go from P83 to P81 using lane ls269\n"
     ]
    }
   ],
   "source": [
    "# edges\n",
    "for n1, n2 in sk.G.edges():\n",
    "    data = sk.G.get_edge_data(n1, n2)\n",
    "    one_lane = data[0]['lane']\n",
    "    print('I can go from %s to %s using lane %s' % (n1, n2, one_lane))"
   ]
  },
  {
   "cell_type": "markdown",
   "metadata": {},
   "source": [
    "Let's bring in the `draw_graph` function from some time ago."
   ]
  },
  {
   "cell_type": "code",
   "execution_count": 10,
   "metadata": {},
   "outputs": [],
   "source": [
    "def draw_graph(G0, pos=None):\n",
    "    import networkx as nx\n",
    "    from matplotlib import pyplot as plt\n",
    "    pos = pos or nx.spring_layout(G0)\n",
    "    plt.figure(figsize=(12, 12))    \n",
    "    nx.draw(G0,pos,labels={node:node for node in G0.nodes()})\n",
    "    def edge_label(a, b):\n",
    "        datas = G0.get_edge_data(a, b)\n",
    "        s = '%d edge%s' % (len(datas), 's' if len(datas)>=2 else '')\n",
    "        for k, v in datas.items():\n",
    "            if v:\n",
    "                if 'label' in v:\n",
    "                    s += '\\n %s' % v['label']\n",
    "                else:\n",
    "                    s += '\\n %s' %v\n",
    "        return s\n",
    "    edge_labels = dict([ ((a,b), edge_label(a,b)) for a,b in G0.edges()])\n",
    "    nx.draw_networkx_edge_labels(G0,pos,edge_labels=edge_labels,font_color='red')\n",
    "    plt.axis('off')\n",
    "    plt.show()"
   ]
  },
  {
   "cell_type": "markdown",
   "metadata": {},
   "source": [
    "Set the position of each node in the graph based on the attribute 'point'."
   ]
  },
  {
   "cell_type": "code",
   "execution_count": 11,
   "metadata": {},
   "outputs": [
    {
     "data": {
      "text/plain": [
       "<Figure size 1200x1200 with 1 Axes>"
      ]
     },
     "metadata": {},
     "output_type": "display_data"
    }
   ],
   "source": [
    "import geometry as geo\n",
    "pos = {}\n",
    "for n in sk.G:\n",
    "    q = sk.G.nodes[n]['point'].as_SE2()\n",
    "    t, _ = geo.translation_angle_from_SE2(q)\n",
    "    pos[n] = t\n",
    "draw_graph(sk.G, pos=pos)"
   ]
  },
  {
   "cell_type": "markdown",
   "metadata": {},
   "source": [
    "## Planning example\n",
    "\n",
    "Here is an example of how to do planning on the road network.\n",
    "\n",
    "We select a start and end node:"
   ]
  },
  {
   "cell_type": "code",
   "execution_count": 12,
   "metadata": {},
   "outputs": [],
   "source": [
    "start = 'P60'\n",
    "end = 'P36'"
   ]
  },
  {
   "cell_type": "markdown",
   "metadata": {},
   "source": [
    "We find the shortest path:"
   ]
  },
  {
   "cell_type": "code",
   "execution_count": 13,
   "metadata": {},
   "outputs": [
    {
     "name": "stdout",
     "output_type": "stream",
     "text": [
      "['P60', 'P57', 'P54', 'P46', 'P33', 'P31', 'P34', 'P36']\n"
     ]
    }
   ],
   "source": [
    "import networkx as nx\n",
    "path = nx.shortest_path(sk.G, start, end)\n",
    "print(path)"
   ]
  },
  {
   "cell_type": "markdown",
   "metadata": {},
   "source": [
    "We retrieve the edge names:"
   ]
  },
  {
   "cell_type": "code",
   "execution_count": 14,
   "metadata": {},
   "outputs": [],
   "source": [
    "def get_lanes(path):\n",
    "    edges = zip(path[:-1], path[1:]) \n",
    "    lanes  = []\n",
    "    for a, b in edges:\n",
    "        lane = sk.G.get_edge_data(a, b)[0]['lane']\n",
    "        lanes.append(lane)\n",
    "    return lanes"
   ]
  },
  {
   "cell_type": "code",
   "execution_count": 15,
   "metadata": {},
   "outputs": [
    {
     "name": "stdout",
     "output_type": "stream",
     "text": [
      "['ls202', 'L111', 'ls193', 'L100', 'ls132', 'L86', 'ls140']\n"
     ]
    }
   ],
   "source": [
    "lanes = get_lanes(path);\n",
    "print(lanes)"
   ]
  },
  {
   "cell_type": "markdown",
   "metadata": {},
   "source": [
    "For visualization, we create a new map containing only the lanes selected: "
   ]
  },
  {
   "cell_type": "code",
   "execution_count": 16,
   "metadata": {},
   "outputs": [],
   "source": [
    "po = dw.PlacedObject()\n",
    "for lane_name in lanes:\n",
    "    lane = sk.root2.children[lane_name]\n",
    "    po.set_object(lane_name, lane, ground_truth=dw.SE2Transform.identity())"
   ]
  },
  {
   "cell_type": "code",
   "execution_count": 17,
   "metadata": {},
   "outputs": [
    {
     "data": {
      "text/html": [
       "\n",
       "        <iframe\n",
       "            width=\"100%\"\n",
       "            height=\"600\"\n",
       "            src=\"out/ipython_draw_html/4890723832/drawing.html\"\n",
       "            frameborder=\"0\"\n",
       "            allowfullscreen\n",
       "        ></iframe>\n",
       "        "
      ],
      "text/plain": [
       "<IPython.lib.display.IFrame at 0x11f1de0b8>"
      ]
     },
     "metadata": {},
     "output_type": "display_data"
    }
   ],
   "source": [
    "ipython_draw_html(po);"
   ]
  }
 ],
 "metadata": {
  "kernelspec": {
   "display_name": "Python 3",
   "language": "python",
   "name": "python3"
  },
  "language_info": {
   "codemirror_mode": {
    "name": "ipython",
    "version": 3
   },
   "file_extension": ".py",
   "mimetype": "text/x-python",
   "name": "python",
   "nbconvert_exporter": "python",
   "pygments_lexer": "ipython3",
   "version": "3.7.2"
  }
 },
 "nbformat": 4,
 "nbformat_minor": 2
}
